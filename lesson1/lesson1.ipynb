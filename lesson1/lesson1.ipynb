{
 "cells": [
  {
   "cell_type": "markdown",
   "metadata": {},
   "source": [
    "<img src=\"python-logo.png\" alt=\"Drawing\" style=\"width: 200px;\"/>\n",
    "\n",
    "# Занятие 1: Основы Python\n",
    "\n",
    "## Краткое резюме \n",
    "\n",
    "Установка, настройка рабочего окружения. Средства разработки. Jupyter Notebook. Основные конструкции языка. \n",
    "\n",
    "## Содержание\n",
    "\n",
    "- [Почему имено python?](#why-python)\n",
    "- [Общая характеристика](#about) \n",
    "- [Установка](#install)\n",
    "- [Hello world c Python](#hello-world)\n",
    "- [Основные типы данных](#data-types)\n",
    "- [Роль отступов в python](#idents)\n",
    "- [Комментарии](#comments)\n",
    "- [Переменные](#variables)\n",
    "- [Ветвления](#conditions)\n",
    "- [Функции](#functions)\n",
    "- [Циклы](#loops)\n",
    "- [Списки](#lists)\n",
    "    - [Индексация в списках](#index)\n",
    "    - [Срезы](#slices)\n",
    "    - [Генераторы списков](#comprehensions)\n",
    "- [Set и Dict](#collections)\n",
    "    - [Set](#set)\n",
    "    - [Dict](#dict)\n",
    "- [Кортежи](#typles)\n",
    "- [Создание своих классов](#classes)\n",
    "- [Импорт пакетов](#imports)\n",
    "- [Установка пакетов](#packages)\n",
    "- [Задание](#task)\n",
    "\n",
    "## Почему имено python? <a id=\"why-python\"></a>\n",
    "\n",
    "- большое количество инструментов для машинного обучения\n",
    "- просто в изучении \n",
    "- почти все популярные библиотеки имеют python API\n",
    "- может применяться не только для построения моделей \n",
    "\n",
    "## Общая характеристика <a id=\"about\"></a>\n",
    "\n",
    "Python — высокоуровневый язык программирования общего назначения, ориентированный на повышение производительности разработчика и читаемости кода. Синтаксис ядра Python минималистичен. В то же время стандартная библиотека включает большой объём полезных функций.\n",
    "\n",
    "Python поддерживает несколько парадигм программирования, в том числе структурное, объектно-ориентированное, функциональное, императивное и аспектно-ориентированное. Основные архитектурные черты — динамическая типизация, автоматическое управление памятью, полная интроспекция, механизм обработки исключений, поддержка многопоточных вычислений и удобные высокоуровневые структуры данных. Код в Python организовывается в функции и классы, которые могут объединяться в модули (они в свою очередь могут быть объединены в пакеты). Информация из [https://ru.wikipedia.org/wiki/Python](https://ru.wikipedia.org/wiki/Python)\n",
    "\n",
    "\n",
    "## Установка  <a id=\"install\"></a>\n",
    "\n",
    "В рамках курса рекомендуется использовать **Python 3.5.3 - 2017-01-17**. Мы все проверяем с этой версией. Можно использовать пакет [Anaconda](https://www.anaconda.com/download/). В дальнейшем все примеры будут рассматрисаться на примере обычной инсталяции [Python](https://www.python.org):\n",
    "- Windows [x64](https://www.python.org/ftp/python/3.5.3/python-3.5.3-amd64.exe)/[x32](https://www.python.org/ftp/python/3.5.3/python-3.5.3.exe) (по возможности выбирайте версию x64)\n",
    "- Linux - зависит от дистрибудива. Скорее всего уже установлен. Проверить можно командой `python3 -V`, если версия отобразилась, значит python установлен. Обратите внимание на версию. \n",
    "\n",
    "\n",
    "## Средства разработки\n",
    "\n",
    "- Sublime Text 3 https://www.sublimetext.com/3 \n",
    "- VS Code https://code.visualstudio.com/ \n",
    "- PyCharm https://www.jetbrains.com/pycharm/ \n",
    "- Jupyter http://jupyter.org/ \n",
    "\n",
    "В рамках курса будет использоваться Jupyter, но задания можно выполнять использую любые средства разработки, удобные для слушателей.\n"
   ]
  },
  {
   "cell_type": "markdown",
   "metadata": {},
   "source": [
    "## Hello world c Python <a id=\"hello-world\"></a>\n",
    "\n",
    "Программу на python не нужно компилировать. Сразу в файле name.py можно писать код. Дополнительно что-то объявлять не требуется."
   ]
  },
  {
   "cell_type": "code",
   "execution_count": 144,
   "metadata": {},
   "outputs": [
    {
     "name": "stdout",
     "output_type": "stream",
     "text": [
      "Hello world\n"
     ]
    }
   ],
   "source": [
    "print(\"Hello world\")"
   ]
  },
  {
   "cell_type": "markdown",
   "metadata": {},
   "source": [
    "## Основные типы данных <a id=\"data-types\"></a>\n",
    "\n",
    "Python - динамический язык, со строгой типизацией. \n",
    "\n",
    "В динамической типизации все типы выясняются уже во время выполнения программы. \n",
    "\n",
    "Сильная типизация выделяется тем, что язык не позволяет смешивать в выражениях различные типы и не выполняет автоматические неявные преобразования, например нельзя вычесть из строки множество."
   ]
  },
  {
   "cell_type": "code",
   "execution_count": 145,
   "metadata": {},
   "outputs": [
    {
     "name": "stdout",
     "output_type": "stream",
     "text": [
      "1 <class 'int'>\n",
      "1.0 <class 'float'>\n",
      "1.5\n",
      "1\n",
      "c <class 'str'>\n",
      "s <class 'str'>\n",
      "None\n"
     ]
    }
   ],
   "source": [
    "# целые \n",
    "print(1,type(1))\n",
    "\n",
    "# вещественные \n",
    "print(1.0, type(1.0))\n",
    "print(3/2)\n",
    "print(3//2)\n",
    "\n",
    "# Сильная типизация\n",
    "# print(\"string value\"+7)\n",
    "\n",
    "# строковые \n",
    "print('c',type('c'))\n",
    "print(\"s\",type(\"s\"))\n",
    "\n",
    "# null\n",
    "print(None)"
   ]
  },
  {
   "cell_type": "markdown",
   "metadata": {},
   "source": [
    "## Роль отступов в python <a id=\"idents\"></a>\n",
    "\n",
    "В python отсутпы используюстя для разделения на логические блоки, если код будет не правильно отформатирован, он не запустится. Можно использовать или табуляции или пробелы. Рекомендуется использовать 4 пробела. В pytonn 3 в одном файле нельзя смешивать табуляции и пробелы. "
   ]
  },
  {
   "cell_type": "code",
   "execution_count": 146,
   "metadata": {},
   "outputs": [
    {
     "name": "stdout",
     "output_type": "stream",
     "text": [
      "one\n",
      "else\n"
     ]
    }
   ],
   "source": [
    "print(\"one\")\n",
    "# print(\"two\")\n",
    "a = 3\n",
    "\n",
    "if a>4:\n",
    "    print(\"if\")\n",
    "    print(\"3\")\n",
    "    # print(\"ident\")\n",
    "else:\n",
    "    print(\"else\")"
   ]
  },
  {
   "cell_type": "markdown",
   "metadata": {},
   "source": [
    "## Комментарии <a id=\"comments\"></a>\n",
    "\n",
    "* одностроковые \n",
    "* многостроковые (их нет, но можно использовать строки)\n",
    "* doc комментарии"
   ]
  },
  {
   "cell_type": "code",
   "execution_count": 147,
   "metadata": {},
   "outputs": [
    {
     "name": "stdout",
     "output_type": "stream",
     "text": [
      "\n",
      "    Комментарий сразу после объявления функции, \n",
      "    считается doc комментом. к нему можно получить доступ из кода.\n",
      "    \n"
     ]
    }
   ],
   "source": [
    "# Одностроковый комментария \n",
    "\n",
    "'''\n",
    "Как многостроковый комментарий \n",
    "\n",
    "можно использовать строку, никуда не присваивая \n",
    "\n",
    "'''\n",
    "\n",
    "def fun():\n",
    "    '''\n",
    "    Комментарий сразу после объявления функции, \n",
    "    считается doc комментом. к нему можно получить доступ из кода.\n",
    "    '''\n",
    "    pass\n",
    "\n",
    "print(fun.__doc__)"
   ]
  },
  {
   "cell_type": "markdown",
   "metadata": {},
   "source": [
    "## Переменные <a id=\"variables\"></a>\n",
    "\n",
    "В Python не нежно указывать тип, он будет определён автоматически."
   ]
  },
  {
   "cell_type": "code",
   "execution_count": 148,
   "metadata": {},
   "outputs": [
    {
     "name": "stdout",
     "output_type": "stream",
     "text": [
      "<class 'int'>\n",
      "<class 'str'>\n",
      "<class '__main__.Foo'>\n"
     ]
    }
   ],
   "source": [
    "a = 23\n",
    "print(type(a))\n",
    "\n",
    "b = \"string value\"\n",
    "print(type(b))\n",
    "\n",
    "class Foo(object):\n",
    "    pass\n",
    "\n",
    "# Создаие экземпляра объекта\n",
    "c = Foo()\n",
    "print(type(c))"
   ]
  },
  {
   "cell_type": "markdown",
   "metadata": {},
   "source": [
    "## Ветвления <a id=\"conditions\"></a>\n",
    "\n",
    "В python есть несколько условных операторов, это две модификации if. Привычный для многих языков switch отсутствует."
   ]
  },
  {
   "cell_type": "code",
   "execution_count": 149,
   "metadata": {},
   "outputs": [
    {
     "name": "stdout",
     "output_type": "stream",
     "text": [
      "else\n"
     ]
    }
   ],
   "source": [
    "a = 0\n",
    "\n",
    "if a > 0:\n",
    "    print(\"if\")\n",
    "elif a < 0:\n",
    "    print(\"elif\")\n",
    "else:\n",
    "    print(\"else\")"
   ]
  },
  {
   "cell_type": "markdown",
   "metadata": {},
   "source": [
    "Короткая версия if оператора:"
   ]
  },
  {
   "cell_type": "code",
   "execution_count": 150,
   "metadata": {},
   "outputs": [
    {
     "name": "stdout",
     "output_type": "stream",
     "text": [
      "Empty\n"
     ]
    }
   ],
   "source": [
    "a = None\n",
    "\n",
    "result = a if a!=None else \"Empty\" \n",
    "print(result)"
   ]
  },
  {
   "cell_type": "markdown",
   "metadata": {},
   "source": [
    "## Функции <a id=\"functions\"></a>\n",
    "\n",
    "В python функции тоже объекты."
   ]
  },
  {
   "cell_type": "code",
   "execution_count": 151,
   "metadata": {},
   "outputs": [
    {
     "name": "stdout",
     "output_type": "stream",
     "text": [
      "fun1\n",
      "Просто функция без параметров\n",
      "fun2 324\n",
      "fun2 df\n",
      "fun3 1 2\n",
      "fun3 1 2\n",
      "fun4 param\n",
      "fun4 default\n"
     ]
    }
   ],
   "source": [
    "def fun1():\n",
    "    '''Просто функция без параметров'''\n",
    "    print(\"fun1\")\n",
    "    \n",
    "def fun2(a):\n",
    "    '''Функция с параметном'''\n",
    "    print(\"fun2\",a)\n",
    "    \n",
    "def fun3(a,b):\n",
    "    '''Несколько параметров'''\n",
    "    print(\"fun3\",a,b)\n",
    "    \n",
    "def fun4(a='default'):\n",
    "    '''Необязательные параметры'''\n",
    "    print(\"fun4\",a)\n",
    "\n",
    "fun1()\n",
    "\n",
    "# Для любого объекта можно посмотреть документацию.\n",
    "print(fun1.__doc__)\n",
    "\n",
    "fun2(324)\n",
    "fun2(\"df\")\n",
    "\n",
    "fun3(1,2)\n",
    "fun3(b=2,a=1)\n",
    "\n",
    "fun4(\"param\")\n",
    "fun4()"
   ]
  },
  {
   "cell_type": "markdown",
   "metadata": {},
   "source": [
    "В python функции первого порядка, что это значит?\n",
    "\n",
    "\n",
    "функцию можно присвоить другой переменной."
   ]
  },
  {
   "cell_type": "code",
   "execution_count": 152,
   "metadata": {},
   "outputs": [
    {
     "name": "stdout",
     "output_type": "stream",
     "text": [
      "my_func\n"
     ]
    }
   ],
   "source": [
    "def mu_func():\n",
    "    print(\"my_func\")\n",
    "\n",
    "a = mu_func\n",
    "# a\n",
    "a()"
   ]
  },
  {
   "cell_type": "markdown",
   "metadata": {},
   "source": [
    "А можно передавать в качестве аргумента "
   ]
  },
  {
   "cell_type": "code",
   "execution_count": 153,
   "metadata": {},
   "outputs": [
    {
     "name": "stdout",
     "output_type": "stream",
     "text": [
      "-0.9165215479156338\n",
      "1764\n"
     ]
    }
   ],
   "source": [
    "def func_arg(fn):\n",
    "    print(fn(42))\n",
    "    \n",
    "import math \n",
    "\n",
    "def p(v):\n",
    "    return v*v\n",
    "    \n",
    "\n",
    "func_arg(math.sin)\n",
    "func_arg(p)"
   ]
  },
  {
   "cell_type": "markdown",
   "metadata": {},
   "source": [
    "В python есть лямбда функции"
   ]
  },
  {
   "cell_type": "code",
   "execution_count": 154,
   "metadata": {},
   "outputs": [
    {
     "name": "stdout",
     "output_type": "stream",
     "text": [
      "25\n",
      "74088\n"
     ]
    }
   ],
   "source": [
    "a = (lambda x: x*x)\n",
    "print(a(5))\n",
    "func_arg((lambda x: x*x*x))"
   ]
  },
  {
   "cell_type": "markdown",
   "metadata": {},
   "source": [
    "## Циклы <a id=\"loops\"></a>\n",
    "\n",
    "Основные способы for и while. Синтаксис while:"
   ]
  },
  {
   "cell_type": "code",
   "execution_count": 155,
   "metadata": {},
   "outputs": [
    {
     "name": "stdout",
     "output_type": "stream",
     "text": [
      "0\n",
      "1\n",
      "2\n"
     ]
    }
   ],
   "source": [
    "i = 0\n",
    "while i<3:\n",
    "    print(i)\n",
    "    i+=1"
   ]
  },
  {
   "cell_type": "markdown",
   "metadata": {},
   "source": [
    "Цикл `for` имеет отличая, и в сравнении с Java и C# он больше похож на `for-each`.\n",
    "\n",
    "Итерация по списку:"
   ]
  },
  {
   "cell_type": "code",
   "execution_count": 156,
   "metadata": {},
   "outputs": [
    {
     "name": "stdout",
     "output_type": "stream",
     "text": [
      "1\n",
      "2\n",
      "3\n"
     ]
    }
   ],
   "source": [
    "ls = [1,2,3]\n",
    "\n",
    "for item in ls:\n",
    "    print(item)"
   ]
  },
  {
   "cell_type": "markdown",
   "metadata": {},
   "source": [
    "Создание генератора, для итерации https://docs.python.org/3/library/functions.html#func-range"
   ]
  },
  {
   "cell_type": "code",
   "execution_count": 157,
   "metadata": {},
   "outputs": [
    {
     "name": "stdout",
     "output_type": "stream",
     "text": [
      "0\n",
      "1\n",
      "2\n"
     ]
    }
   ],
   "source": [
    "for i in range(3):\n",
    "    print(i)"
   ]
  },
  {
   "cell_type": "code",
   "execution_count": 158,
   "metadata": {},
   "outputs": [
    {
     "name": "stdout",
     "output_type": "stream",
     "text": [
      "1\n",
      "3\n",
      "5\n",
      "7\n",
      "9\n"
     ]
    }
   ],
   "source": [
    "for i in range(1,10,2):\n",
    "    print(i)"
   ]
  },
  {
   "cell_type": "markdown",
   "metadata": {},
   "source": [
    "Это базовые способы работать с `for`, но есть большое количество вариантов использования. "
   ]
  },
  {
   "cell_type": "markdown",
   "metadata": {},
   "source": [
    "## Списки  <a id=\"lists\"></a>\n",
    "\n",
    "В Python нет привычных для многих языков программирования массивов. Вместо них используеются динамические списки. Подробнее в документации https://docs.python.org/3/tutorial/datastructures.html. "
   ]
  },
  {
   "cell_type": "code",
   "execution_count": 159,
   "metadata": {},
   "outputs": [
    {
     "name": "stdout",
     "output_type": "stream",
     "text": [
      "[1, 2, 3]\n",
      "Размер списка 3\n",
      "[1, 2, 3, 4]\n",
      "[1, 2, 3, 4, 6, 7]\n",
      "[1, 2, 3, 4, 6, 7, 1]\n",
      "[2, 3, 4, 6, 7, 1]\n"
     ]
    }
   ],
   "source": [
    "ls = [1,2,3]\n",
    "print(ls)\n",
    "print('Размер списка',len(ls))\n",
    "ls.append(4)\n",
    "print(ls)\n",
    "\n",
    "# Операторы перегружены для многих операций \n",
    "ls+=[6,7]\n",
    "print(ls)\n",
    "\n",
    "#ls+=5 приведёт к ошибке, потому что число не итерируемое, можно делать по другому\n",
    "ls+=[1]\n",
    "print(ls)\n",
    "\n",
    "# Удалить первое вхождение\n",
    "ls.remove(1)\n",
    "print(ls)"
   ]
  },
  {
   "cell_type": "markdown",
   "metadata": {},
   "source": [
    "Элементы списка могут быть любые объекты."
   ]
  },
  {
   "cell_type": "code",
   "execution_count": 160,
   "metadata": {},
   "outputs": [
    {
     "name": "stdout",
     "output_type": "stream",
     "text": [
      "[1, 2, '234', [2, 4], None, <built-in function sin>]\n"
     ]
    }
   ],
   "source": [
    "from math import sin\n",
    "complex_list = [1,2,\"234\",[2,4],None, sin]\n",
    "print(complex_list)"
   ]
  },
  {
   "cell_type": "markdown",
   "metadata": {},
   "source": [
    "### Индексация в списках <a id=\"index\"></a>\n",
    "\n",
    "Для ображения к элементу используется `[]`, элемент доступен к изменению. Все особенности индексации **работают и со строками** тоже."
   ]
  },
  {
   "cell_type": "code",
   "execution_count": 161,
   "metadata": {},
   "outputs": [
    {
     "name": "stdout",
     "output_type": "stream",
     "text": [
      "[1, 2, 3]\n",
      "2\n",
      "[1, 'string', 3]\n"
     ]
    }
   ],
   "source": [
    "ls = [1,2,3]\n",
    "print(ls)\n",
    "print(ls[1])\n",
    "ls[1] = \"string\"\n",
    "print(ls)"
   ]
  },
  {
   "cell_type": "markdown",
   "metadata": {},
   "source": [
    "В python можно использовать отрицательные индексы, это способ индексации с конца списка. "
   ]
  },
  {
   "cell_type": "code",
   "execution_count": 162,
   "metadata": {},
   "outputs": [
    {
     "name": "stdout",
     "output_type": "stream",
     "text": [
      "three\n",
      "two\n"
     ]
    }
   ],
   "source": [
    "ls = ['one','two','three']\n",
    "print(ls[-1])\n",
    "print(ls[-2])"
   ]
  },
  {
   "cell_type": "markdown",
   "metadata": {},
   "source": [
    "### Срезы  <a id=\"slices\"></a>\n",
    "\n",
    "Срезы удобный инструмент выбирать часть списка или строки. Эта возможность очень часто используется в программах на Python. Дополнительно см.: \n",
    "- https://habrahabr.ru/post/89456/\n",
    "- https://www.digitalocean.com/community/tutorials/how-to-index-and-slice-strings-in-python-3\n",
    "\n",
    "Базовый синтаксис:\n",
    "\n",
    "```list[start:end:step]```\n",
    "\n",
    "Примеры:\n"
   ]
  },
  {
   "cell_type": "code",
   "execution_count": 163,
   "metadata": {},
   "outputs": [
    {
     "name": "stdout",
     "output_type": "stream",
     "text": [
      "['e', 'f', 'g']\n",
      "['a', 'b', 'c', 'd']\n",
      "['b', 'c']\n",
      "['b', 'd', 'f']\n",
      "['a', 'c', 'e', 'g']\n",
      "['g', 'f', 'e', 'd', 'c', 'b', 'a']\n",
      "['a', 'one', 'two', 'd', 'e', 'f', 'g']\n"
     ]
    }
   ],
   "source": [
    "ls = ['a','b','c','d','e','f','g']\n",
    "print(ls[4:])\n",
    "print(ls[:4])\n",
    "print(ls[1:3])\n",
    "print(ls[1:8:2])\n",
    "print(ls[::2])\n",
    "print(ls[::-1])\n",
    "\n",
    "# Они части остаются изменяемыми \n",
    "\n",
    "ls[1:3]=[\"one\",\"two\"]\n",
    "print(ls)"
   ]
  },
  {
   "cell_type": "markdown",
   "metadata": {},
   "source": [
    "### Генераторы списков <a id=\"comprehensions\"></a>\n",
    "\n",
    "В python есть специальный синтаксис для формирования и обработки списков."
   ]
  },
  {
   "cell_type": "code",
   "execution_count": 164,
   "metadata": {},
   "outputs": [
    {
     "name": "stdout",
     "output_type": "stream",
     "text": [
      "['#1', '#2', '#3', '#4']\n"
     ]
    }
   ],
   "source": [
    "a = [1,2,3,4]\n",
    "\n",
    "a_str = [ \"#\"+str(x) for x in a]\n",
    "print(a_str)"
   ]
  },
  {
   "cell_type": "code",
   "execution_count": 165,
   "metadata": {},
   "outputs": [
    {
     "name": "stdout",
     "output_type": "stream",
     "text": [
      "['#1', '#2', '#3', '#3']\n"
     ]
    }
   ],
   "source": [
    "a = [1, 2, 3, -1, 3, -4]\n",
    "a_str = [ \"#\"+str(x) for x in a if x > 0]\n",
    "print(a_str)"
   ]
  },
  {
   "cell_type": "markdown",
   "metadata": {},
   "source": [
    "### Dict и Set <a id=\"collections\"></a>\n",
    "\n",
    "В стандартной библиотеке python большое количество структур данных. В рамках курса будут затронуты только словори и множества.\n",
    "\n",
    "Поднобнее про структуры данных в Python в документации https://docs.python.org/3/tutorial/datastructures.html"
   ]
  },
  {
   "cell_type": "markdown",
   "metadata": {},
   "source": [
    "### Dict <a id=\"dict\"></a>\n",
    "\n",
    "Синтаксис объявления очень похож на JSON. В качестве ключа может быть любой неизменяемый объект."
   ]
  },
  {
   "cell_type": "code",
   "execution_count": 166,
   "metadata": {},
   "outputs": [
    {
     "name": "stdout",
     "output_type": "stream",
     "text": [
      "{'key': 'value', 'a': 34, 2: 'value'}\n"
     ]
    }
   ],
   "source": [
    "my_dict = {'key':\"value\",2:\"value\",\"a\":34}\n",
    "print(my_dict)"
   ]
  },
  {
   "cell_type": "markdown",
   "metadata": {},
   "source": [
    "Проверка наличая элемента в множестве"
   ]
  },
  {
   "cell_type": "code",
   "execution_count": 167,
   "metadata": {},
   "outputs": [
    {
     "name": "stdout",
     "output_type": "stream",
     "text": [
      "True\n",
      "{'new_value': 'this im my new value', 'key': 'value', 'a': 34, 2: 'value'}\n",
      "this im my new value\n"
     ]
    }
   ],
   "source": [
    "print('key' in my_dict)\n",
    "\n",
    "# Добавить, получить или изменить объект в словоре можно используя следующий синтаксис \n",
    "\n",
    "my_dict[\"new_value\"] = \"this im my new value\"\n",
    "print(my_dict)\n",
    "print(my_dict['new_value'])"
   ]
  },
  {
   "cell_type": "markdown",
   "metadata": {},
   "source": [
    "Для итерации по словорю можно использовать `for`"
   ]
  },
  {
   "cell_type": "code",
   "execution_count": 168,
   "metadata": {},
   "outputs": [
    {
     "name": "stdout",
     "output_type": "stream",
     "text": [
      "new_value this im my new value\n",
      "key value\n",
      "a 34\n",
      "2 value\n"
     ]
    }
   ],
   "source": [
    "for k,v in my_dict.items():\n",
    "    print(k,v)"
   ]
  },
  {
   "cell_type": "markdown",
   "metadata": {},
   "source": [
    "### Set <a id=\"set\"></a>\n",
    "\n",
    "Как и в других языка set в python позволяет хранить множество уникальных элементов. Можно использовать для устранения повторов. Также python позволяет производить большое количество операций над множествами https://docs.python.org/3/library/stdtypes.html#set  "
   ]
  },
  {
   "cell_type": "code",
   "execution_count": 169,
   "metadata": {},
   "outputs": [
    {
     "name": "stdout",
     "output_type": "stream",
     "text": [
      "{1, 2, 3, 4}\n",
      "{8, 1, 2, 3, 4}\n",
      "{1, 2, 3, 4}\n"
     ]
    }
   ],
   "source": [
    "a = {1,2,3,4}\n",
    "print(a)\n",
    "\n",
    "a.add(8)\n",
    "a.add(8)\n",
    "a.add(8)\n",
    "print(a)\n",
    "\n",
    "ls = [1,2,2,3,3,3,4,4,4]\n",
    "print(set(ls))"
   ]
  },
  {
   "cell_type": "markdown",
   "metadata": {},
   "source": [
    "### Кортежи <a id=\"set\"></a>\n",
    "\n",
    "Кортежи (Tuples) ещё одна отличительная особенность Python. Tuple -- это неизменяемый набор данных. Python обеспечивает удобный синтаксис для работы с tuples. Лучше посмотреть на примерах:"
   ]
  },
  {
   "cell_type": "code",
   "execution_count": 170,
   "metadata": {},
   "outputs": [
    {
     "name": "stdout",
     "output_type": "stream",
     "text": [
      "1 2 3\n",
      "1 2 3\n",
      "('one', 'two')\n",
      "one two\n"
     ]
    }
   ],
   "source": [
    "# Присваивание \n",
    "a,b,c = 1,2,3\n",
    "print(a,b,c)\n",
    "# На самом деле справа был кортеж\n",
    "a,b,c = (1,2,3)\n",
    "print(a,b,c)\n",
    "# Пример \n",
    "t = (\"one\",\"two\")\n",
    "print(t)\n",
    "a,b = t\n",
    "print(a,b)"
   ]
  },
  {
   "cell_type": "code",
   "execution_count": 171,
   "metadata": {},
   "outputs": [
    {
     "name": "stdout",
     "output_type": "stream",
     "text": [
      "5 6\n"
     ]
    }
   ],
   "source": [
    "def calc(a,b):\n",
    "    return a+b,a*b\n",
    "\n",
    "a,b = calc(2,3)\n",
    "print(a,b)"
   ]
  },
  {
   "cell_type": "markdown",
   "metadata": {},
   "source": [
    "## Создание своих классов <a id=\"classes\"></a>\n",
    "\n",
    "Python потдерживает объектно ориентированную парадигму. Больше информации здесь https://docs.python.org/2/tutorial/classes.html "
   ]
  },
  {
   "cell_type": "code",
   "execution_count": 172,
   "metadata": {},
   "outputs": [],
   "source": [
    "class MyClass:\n",
    "    \"\"\"A simple example class\"\"\"\n",
    "    i = 12345\n",
    "    \n",
    "    def f(self):\n",
    "        return 'hello world'"
   ]
  },
  {
   "cell_type": "code",
   "execution_count": 173,
   "metadata": {},
   "outputs": [
    {
     "data": {
      "text/plain": [
       "'hello world'"
      ]
     },
     "execution_count": 173,
     "metadata": {},
     "output_type": "execute_result"
    }
   ],
   "source": [
    "obj = MyClass()\n",
    "obj.f()"
   ]
  },
  {
   "cell_type": "markdown",
   "metadata": {},
   "source": [
    "Поля и конструкторы"
   ]
  },
  {
   "cell_type": "code",
   "execution_count": 174,
   "metadata": {},
   "outputs": [],
   "source": [
    "class Complex:\n",
    "    def __init__(self, a, b):\n",
    "        self.a = a\n",
    "        self.b = b\n",
    "    \n",
    "    def print_vars(self):\n",
    "        print(self.a,self.b)"
   ]
  },
  {
   "cell_type": "code",
   "execution_count": 175,
   "metadata": {},
   "outputs": [
    {
     "ename": "TypeError",
     "evalue": "__init__() missing 2 required positional arguments: 'a' and 'b'",
     "output_type": "error",
     "traceback": [
      "\u001b[0;31m---------------------------------------------------------------------------\u001b[0m",
      "\u001b[0;31mTypeError\u001b[0m                                 Traceback (most recent call last)",
      "\u001b[0;32m<ipython-input-175-34c01fb98a6e>\u001b[0m in \u001b[0;36m<module>\u001b[0;34m()\u001b[0m\n\u001b[0;32m----> 1\u001b[0;31m \u001b[0mobj\u001b[0m \u001b[0;34m=\u001b[0m \u001b[0mComplex\u001b[0m\u001b[0;34m(\u001b[0m\u001b[0;34m)\u001b[0m\u001b[0;34m\u001b[0m\u001b[0m\n\u001b[0m",
      "\u001b[0;31mTypeError\u001b[0m: __init__() missing 2 required positional arguments: 'a' and 'b'"
     ]
    }
   ],
   "source": [
    "obj = Complex()"
   ]
  },
  {
   "cell_type": "code",
   "execution_count": null,
   "metadata": {},
   "outputs": [],
   "source": [
    "obj = Complex(1,2)\n",
    "obj.print_vars()"
   ]
  },
  {
   "cell_type": "markdown",
   "metadata": {},
   "source": [
    "## Импорт пакетов <a id=\"imports\"></a>\n",
    "\n",
    "Как и в других языках высокого уровнять (java,c#), в python код разделяется по пакетам. Python предоставляет несколько особенностей:"
   ]
  },
  {
   "cell_type": "markdown",
   "metadata": {},
   "source": [
    "Простой импорт библиотки "
   ]
  },
  {
   "cell_type": "code",
   "execution_count": 176,
   "metadata": {},
   "outputs": [
    {
     "data": {
      "text/plain": [
       "-0.9899924966004454"
      ]
     },
     "execution_count": 176,
     "metadata": {},
     "output_type": "execute_result"
    }
   ],
   "source": [
    "import math\n",
    "\n",
    "math.cos(3)"
   ]
  },
  {
   "cell_type": "markdown",
   "metadata": {},
   "source": [
    "Импорт заданной функции с пакета"
   ]
  },
  {
   "cell_type": "code",
   "execution_count": 177,
   "metadata": {},
   "outputs": [
    {
     "data": {
      "text/plain": [
       "-0.9899924966004454"
      ]
     },
     "execution_count": 177,
     "metadata": {},
     "output_type": "execute_result"
    }
   ],
   "source": [
    "from math import cos\n",
    "\n",
    "cos(3)"
   ]
  },
  {
   "cell_type": "markdown",
   "metadata": {},
   "source": [
    "Импорт с заданным именем "
   ]
  },
  {
   "cell_type": "code",
   "execution_count": 178,
   "metadata": {},
   "outputs": [
    {
     "data": {
      "text/plain": [
       "-0.9899924966004454"
      ]
     },
     "execution_count": 178,
     "metadata": {},
     "output_type": "execute_result"
    }
   ],
   "source": [
    "import math as mt\n",
    "\n",
    "mt.cos(3)"
   ]
  },
  {
   "cell_type": "markdown",
   "metadata": {},
   "source": [
    "## Установка пакетов <a id=\"packages\"></a>\n",
    "\n",
    "Для установки старонних пакетов в Python есть несколько инструментов. В рамках курса будет использоваться pip (или pip3), почти все необходимые пакеты можно установить командой \n",
    "\n",
    "```\n",
    "pip install <имя пакета>\n",
    "```\n",
    "\n",
    "Подробную информацию можно найти здесь: https://packaging.python.org/tutorials/installing-packages/\n",
    "\n",
    "\n",
    "\n",
    "### Windows \n",
    "\n",
    "В Windows при установке некоторых пакетов могут возникнуть проблемы, для облегчения установки есть ресурс, с собранными под windows библиотеками. Библиотеки постоянно обновляются и здесь можно найти все необходимые библиотеки http://www.lfd.uci.edu/~gohlke/pythonlibs/"
   ]
  },
  {
   "cell_type": "markdown",
   "metadata": {},
   "source": [
    "## Задание <a id=\"task\"></a>"
   ]
  },
  {
   "cell_type": "markdown",
   "metadata": {},
   "source": [
    "- Установить дома python 3.5 или новее\n",
    "- Запустить jupyter и создать notebook (имя файла ex1_<имя_на_английском>\n",
    "- Продемонстрировать изученные конструкции питона (создание функций, циклы, if, кортежи, срезы, генераторы списков)\n",
    "- Прислать любым способом"
   ]
  }
 ],
 "metadata": {
  "kernelspec": {
   "display_name": "Python 3",
   "language": "python",
   "name": "python3"
  },
  "language_info": {
   "codemirror_mode": {
    "name": "ipython",
    "version": 3
   },
   "file_extension": ".py",
   "mimetype": "text/x-python",
   "name": "python",
   "nbconvert_exporter": "python",
   "pygments_lexer": "ipython3",
   "version": "3.5.2"
  }
 },
 "nbformat": 4,
 "nbformat_minor": 2
}
