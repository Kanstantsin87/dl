{
 "cells": [
  {
   "cell_type": "markdown",
   "metadata": {},
   "source": [
    "<img src=\"python-logo.png\" alt=\"Drawing\" style=\"width: 200px;\"/>\n",
    "\n",
    "# Занятие 1: Основы Python\n",
    "\n",
    "## Краткое резюме \n",
    "\n",
    "Установка, настройка рабочего окружения. Средства разработки. Jupyter Notebook. Основные конструкции языка. \n",
    "\n",
    "## Содержание\n",
    "- [Почему имено python?](#why-python)\n",
    "- [Общая характеристика](#about) \n",
    "- [Установка](#install)\n",
    "- [Hello world c Python](#hello-world)\n",
    "- [Основные типы данных](#data-types)\n",
    "- [Роль отступов в python](#idents)\n",
    "- [Комментарии](#comments)\n",
    "- [Переменные](#variables)\n",
    "- [Ветвления](#conditions)\n",
    "- [Функции](#functions)\n",
    "- [Циклы](#loops)\n",
    "- [Списки](#lists)\n",
    "    - [Индексация в списках](#index)\n",
    "\n",
    "\n",
    "## Почему имено python? <a id=\"why-python\"></a>\n",
    "\n",
    "- большое количество инструментов для машинного обучения\n",
    "- просто в изучении \n",
    "- почти все популярные библиотеки имеют python API\n",
    "- может применяться не только для построения моделей \n",
    "\n",
    "## Общая характеристика <a id=\"about\"></a>\n",
    "\n",
    "Python — высокоуровневый язык программирования общего назначения, ориентированный на повышение производительности разработчика и читаемости кода. Синтаксис ядра Python минималистичен. В то же время стандартная библиотека включает большой объём полезных функций.\n",
    "\n",
    "Python поддерживает несколько парадигм программирования, в том числе структурное, объектно-ориентированное, функциональное, императивное и аспектно-ориентированное. Основные архитектурные черты — динамическая типизация, автоматическое управление памятью, полная интроспекция, механизм обработки исключений, поддержка многопоточных вычислений и удобные высокоуровневые структуры данных. Код в Python организовывается в функции и классы, которые могут объединяться в модули (они в свою очередь могут быть объединены в пакеты). Информация из [https://ru.wikipedia.org/wiki/Python](https://ru.wikipedia.org/wiki/Python)\n",
    "\n",
    "\n",
    "## Установка  <a id=\"install\"></a>\n",
    "\n",
    "В рамках курса рекомендуется использовать **Python 3.5.3 - 2017-01-17**. Мы все проверяем с этой версией. Можно использовать пакет [Anaconda](https://www.anaconda.com/download/). В дальнейшем все примеры будут рассматрисаться на примере обычной инсталяции [Python](https://www.python.org):\n",
    "- Windows [x64](https://www.python.org/ftp/python/3.5.3/python-3.5.3-amd64.exe)/[x32](https://www.python.org/ftp/python/3.5.3/python-3.5.3.exe) (по возможности выбирайте версию x64)\n",
    "- Linux - зависит от дистрибудива. Скорее всего уже установлен. Проверить можно командой `python3 -V`, если версия отобразилась, значит python установлен. Обратите внимание на версию. \n",
    "\n",
    "\n",
    "## Средства разработки\n",
    "\n",
    "- Sublime Text 3 https://www.sublimetext.com/3 \n",
    "- VS Code https://code.visualstudio.com/ \n",
    "- PyCharm https://www.jetbrains.com/pycharm/ \n",
    "- Jupyter http://jupyter.org/ \n",
    "\n",
    "В рамках курса будет использоваться Jupyter, но задания можно выполнять использую любые средства разработки, удобные для слушателей.\n"
   ]
  },
  {
   "cell_type": "markdown",
   "metadata": {},
   "source": [
    "## Hello world c Python <a id=\"hello-world\"></a>\n",
    "\n",
    "Программу на python не нужно компилировать. Сразу в файле name.py можно писать код. Дополнительно что-то объявлять не требуется."
   ]
  },
  {
   "cell_type": "code",
   "execution_count": 2,
   "metadata": {},
   "outputs": [
    {
     "name": "stdout",
     "output_type": "stream",
     "text": [
      "Hello world\n"
     ]
    }
   ],
   "source": [
    "print(\"Hello world\")"
   ]
  },
  {
   "cell_type": "markdown",
   "metadata": {},
   "source": [
    "## Основные типы данных <a id=\"data-types\"></a>\n",
    "\n",
    "Python - динамический язык, со строгой типизацией. \n",
    "\n",
    "В динамической типизации все типы выясняются уже во время выполнения программы. \n",
    "\n",
    "Сильная типизация выделяется тем, что язык не позволяет смешивать в выражениях различные типы и не выполняет автоматические неявные преобразования, например нельзя вычесть из строки множество."
   ]
  },
  {
   "cell_type": "code",
   "execution_count": 28,
   "metadata": {},
   "outputs": [
    {
     "name": "stdout",
     "output_type": "stream",
     "text": [
      "1 <class 'int'>\n",
      "1.0 <class 'float'>\n",
      "1.5\n",
      "1\n",
      "c <class 'str'>\n",
      "s <class 'str'>\n",
      "None\n"
     ]
    }
   ],
   "source": [
    "# целые \n",
    "print(1,type(1))\n",
    "\n",
    "# вещественные \n",
    "print(1.0, type(1.0))\n",
    "print(3/2)\n",
    "print(3//2)\n",
    "\n",
    "# Сильная типизация\n",
    "# print(\"string value\"+7)\n",
    "\n",
    "# строковые \n",
    "print('c',type('c'))\n",
    "print(\"s\",type(\"s\"))\n",
    "\n",
    "# null\n",
    "print(None)"
   ]
  },
  {
   "cell_type": "markdown",
   "metadata": {},
   "source": [
    "## Роль отступов в python <a id=\"idents\"></a>\n",
    "\n",
    "В python отсутпы используюстя для разделения на логические блоки, если код будет не правильно отформатирован, он не запустится. Можно использовать или табуляции или пробелы. Рекомендуется использовать 4 пробела. В pytonn 3 в одном файле нельзя смешивать табуляции и пробелы. "
   ]
  },
  {
   "cell_type": "code",
   "execution_count": 38,
   "metadata": {},
   "outputs": [
    {
     "name": "stdout",
     "output_type": "stream",
     "text": [
      "one\n",
      "else\n"
     ]
    }
   ],
   "source": [
    "print(\"one\")\n",
    "# print(\"two\")\n",
    "a = 3\n",
    "\n",
    "if a>4:\n",
    "    print(\"if\")\n",
    "    print(\"3\")\n",
    "    # print(\"ident\")\n",
    "else:\n",
    "    print(\"else\")"
   ]
  },
  {
   "cell_type": "markdown",
   "metadata": {},
   "source": [
    "## Комментарии <a id=\"comments\"></a>\n",
    "\n",
    "* одностроковые \n",
    "* многостроковые (их нет, но можно использовать строки)\n",
    "* doc комментарии"
   ]
  },
  {
   "cell_type": "code",
   "execution_count": 56,
   "metadata": {},
   "outputs": [
    {
     "name": "stdout",
     "output_type": "stream",
     "text": [
      "\n",
      "    Комментарий сразу после объявления функции, \n",
      "    считается doc комментом. к нему можно получить доступ из кода.\n",
      "    \n"
     ]
    }
   ],
   "source": [
    "# Одностроковый комментария \n",
    "\n",
    "'''\n",
    "Как многостроковый комментарий \n",
    "\n",
    "можно использовать строку, никуда не присваивая \n",
    "\n",
    "'''\n",
    "\n",
    "def fun():\n",
    "    '''\n",
    "    Комментарий сразу после объявления функции, \n",
    "    считается doc комментом. к нему можно получить доступ из кода.\n",
    "    '''\n",
    "    pass\n",
    "\n",
    "print(fun.__doc__)"
   ]
  },
  {
   "cell_type": "markdown",
   "metadata": {},
   "source": [
    "## Переменные <a id=\"variables\"></a>\n",
    "\n",
    "В Python не нежно указывать тип, он будет определён автоматически."
   ]
  },
  {
   "cell_type": "code",
   "execution_count": 26,
   "metadata": {},
   "outputs": [
    {
     "name": "stdout",
     "output_type": "stream",
     "text": [
      "<class 'int'>\n",
      "<class 'str'>\n",
      "<class '__main__.Foo'>\n"
     ]
    }
   ],
   "source": [
    "a = 23\n",
    "print(type(a))\n",
    "\n",
    "b = \"string value\"\n",
    "print(type(b))\n",
    "\n",
    "class Foo(object):\n",
    "    pass\n",
    "\n",
    "# Создаие экземпляра объекта\n",
    "c = Foo()\n",
    "print(type(c))"
   ]
  },
  {
   "cell_type": "markdown",
   "metadata": {},
   "source": [
    "## Ветвления <a id=\"conditions\"></a>\n",
    "\n",
    "В python есть несколько условных операторов, это две модификации if. Привычный для многих языков switch отсутствует."
   ]
  },
  {
   "cell_type": "code",
   "execution_count": 40,
   "metadata": {},
   "outputs": [
    {
     "name": "stdout",
     "output_type": "stream",
     "text": [
      "else\n"
     ]
    }
   ],
   "source": [
    "a = 0\n",
    "\n",
    "if a > 0:\n",
    "    print(\"if\")\n",
    "elif a < 0:\n",
    "    print(\"elif\")\n",
    "else:\n",
    "    print(\"else\")"
   ]
  },
  {
   "cell_type": "markdown",
   "metadata": {},
   "source": [
    "Короткая версия if оператора:"
   ]
  },
  {
   "cell_type": "code",
   "execution_count": 44,
   "metadata": {},
   "outputs": [
    {
     "name": "stdout",
     "output_type": "stream",
     "text": [
      "Empty\n"
     ]
    }
   ],
   "source": [
    "a = None\n",
    "\n",
    "result = a if a!=None else \"Empty\" \n",
    "print(result)"
   ]
  },
  {
   "cell_type": "markdown",
   "metadata": {},
   "source": [
    "## Функции <a id=\"functions\"></a>\n",
    "\n",
    "В python функции тоже объекты."
   ]
  },
  {
   "cell_type": "code",
   "execution_count": 47,
   "metadata": {},
   "outputs": [
    {
     "name": "stdout",
     "output_type": "stream",
     "text": [
      "Просто функция без параметров\n",
      "fun2 324\n",
      "fun2 df\n",
      "fun3 1 2\n",
      "fun3 1 2\n",
      "fun4 param\n",
      "fun4 default\n"
     ]
    }
   ],
   "source": [
    "def fun1():\n",
    "    '''Просто функция без параметров'''\n",
    "    print(\"fun1\")\n",
    "    \n",
    "def fun2(a):\n",
    "    '''Функция с параметном'''\n",
    "    print(\"fun2\",a)\n",
    "    \n",
    "def fun3(a,b):\n",
    "    '''Несколько параметров'''\n",
    "    print(\"fun3\",a,b)\n",
    "    \n",
    "def fun4(a='default'):\n",
    "    '''Необязательные параметры'''\n",
    "    print(\"fun4\",a)\n",
    "\n",
    "fun1()\n",
    "\n",
    "# Для любого объекта можно посмотреть документацию.\n",
    "print(fun1.__doc__)\n",
    "\n",
    "fun2(324)\n",
    "fun2(\"df\")\n",
    "\n",
    "fun3(1,2)\n",
    "fun3(b=2,a=1)\n",
    "\n",
    "fun4(\"param\")\n",
    "fun4()"
   ]
  },
  {
   "cell_type": "markdown",
   "metadata": {},
   "source": [
    "В python функции первого порядка, что это значит?\n",
    "\n",
    "\n",
    "функцию можно присвоить другой переменной."
   ]
  },
  {
   "cell_type": "code",
   "execution_count": 48,
   "metadata": {},
   "outputs": [
    {
     "name": "stdout",
     "output_type": "stream",
     "text": [
      "my_func\n"
     ]
    }
   ],
   "source": [
    "def mu_func():\n",
    "    print(\"my_func\")\n",
    "\n",
    "a = mu_func\n",
    "# a\n",
    "a()"
   ]
  },
  {
   "cell_type": "markdown",
   "metadata": {},
   "source": [
    "А можно передавать в качестве аргумента "
   ]
  },
  {
   "cell_type": "code",
   "execution_count": 49,
   "metadata": {},
   "outputs": [
    {
     "name": "stdout",
     "output_type": "stream",
     "text": [
      "-0.9165215479156338\n",
      "1764\n"
     ]
    }
   ],
   "source": [
    "def func_arg(fn):\n",
    "    print(fn(42))\n",
    "    \n",
    "import math \n",
    "\n",
    "def p(v):\n",
    "    return v*v\n",
    "    \n",
    "\n",
    "func_arg(math.sin)\n",
    "func_arg(p)"
   ]
  },
  {
   "cell_type": "markdown",
   "metadata": {},
   "source": [
    "В python есть лямбда функции"
   ]
  },
  {
   "cell_type": "code",
   "execution_count": 53,
   "metadata": {},
   "outputs": [
    {
     "name": "stdout",
     "output_type": "stream",
     "text": [
      "25\n",
      "74088\n"
     ]
    }
   ],
   "source": [
    "a = (lambda x: x*x)\n",
    "print(a(5))\n",
    "func_arg((lambda x: x*x*x))"
   ]
  },
  {
   "cell_type": "markdown",
   "metadata": {},
   "source": [
    "## Циклы <a id=\"loops\"></a>\n",
    "\n",
    "Основные способы for и while. Синтаксис while:"
   ]
  },
  {
   "cell_type": "code",
   "execution_count": 58,
   "metadata": {},
   "outputs": [
    {
     "name": "stdout",
     "output_type": "stream",
     "text": [
      "0\n",
      "1\n",
      "2\n"
     ]
    }
   ],
   "source": [
    "i = 0\n",
    "while i<3:\n",
    "    print(i)\n",
    "    i+=1"
   ]
  },
  {
   "cell_type": "markdown",
   "metadata": {},
   "source": [
    "Цикл `for` имеет отличая, и в сравнении с Java и C# он больше похож на `for-each`.\n",
    "\n",
    "Итерация по списку:"
   ]
  },
  {
   "cell_type": "code",
   "execution_count": 60,
   "metadata": {},
   "outputs": [
    {
     "name": "stdout",
     "output_type": "stream",
     "text": [
      "1\n",
      "2\n",
      "3\n",
      "1\n",
      "1\n",
      "1\n"
     ]
    }
   ],
   "source": [
    "ls = [1,2,3]\n",
    "\n",
    "for item in ls:\n",
    "    print(item)"
   ]
  },
  {
   "cell_type": "markdown",
   "metadata": {},
   "source": [
    "Создание генератора, для итерации https://docs.python.org/3/library/functions.html#func-range"
   ]
  },
  {
   "cell_type": "code",
   "execution_count": 63,
   "metadata": {},
   "outputs": [
    {
     "name": "stdout",
     "output_type": "stream",
     "text": [
      "0\n",
      "1\n",
      "2\n",
      "1\n",
      "2\n"
     ]
    }
   ],
   "source": [
    "for i in range(3):\n",
    "    print(i)"
   ]
  },
  {
   "cell_type": "code",
   "execution_count": 65,
   "metadata": {},
   "outputs": [
    {
     "name": "stdout",
     "output_type": "stream",
     "text": [
      "1\n",
      "3\n",
      "5\n",
      "7\n",
      "9\n"
     ]
    }
   ],
   "source": [
    "for i in range(1,10,2):\n",
    "    print(i)"
   ]
  },
  {
   "cell_type": "markdown",
   "metadata": {},
   "source": [
    "Это базовые способы работать с `for`, но есть большое количество вариантов использования. "
   ]
  },
  {
   "cell_type": "markdown",
   "metadata": {},
   "source": [
    "## Списки  <a id=\"lists\"></a>\n",
    "\n",
    "В Python нет привычных для многих языков программирования массивов. Вместо них используеются динамические списки. Подробнее в документации https://docs.python.org/3/tutorial/datastructures.html. "
   ]
  },
  {
   "cell_type": "code",
   "execution_count": 78,
   "metadata": {},
   "outputs": [
    {
     "name": "stdout",
     "output_type": "stream",
     "text": [
      "[1, 2, 3]\n",
      "Размер списка 3\n",
      "[1, 2, 3, 4]\n",
      "[1, 2, 3, 4, 6, 7]\n",
      "[1, 2, 3, 4, 6, 7, 1]\n",
      "[2, 3, 4, 6, 7, 1]\n"
     ]
    }
   ],
   "source": [
    "ls = [1,2,3]\n",
    "print(ls)\n",
    "print('Размер списка',len(ls))\n",
    "ls.append(4)\n",
    "print(ls)\n",
    "\n",
    "# Операторы перегружены для многих операций \n",
    "ls+=[6,7]\n",
    "print(ls)\n",
    "\n",
    "#ls+=5 приведёт к ошибке, потому что число не итерируемое, можно делать по другому\n",
    "ls+=[1]\n",
    "print(ls)\n",
    "\n",
    "# Удалить первое вхождение\n",
    "ls.remove(1)\n",
    "print(ls)"
   ]
  },
  {
   "cell_type": "markdown",
   "metadata": {},
   "source": [
    "Элементы списка могут быть любые объекты."
   ]
  },
  {
   "cell_type": "code",
   "execution_count": 81,
   "metadata": {},
   "outputs": [
    {
     "name": "stdout",
     "output_type": "stream",
     "text": [
      "[1, 2, '234', [2, 4], None, <built-in function sin>]\n"
     ]
    }
   ],
   "source": [
    "from math import sin\n",
    "complex_list = [1,2,\"234\",[2,4],None, sin]\n",
    "print(complex_list)"
   ]
  },
  {
   "cell_type": "markdown",
   "metadata": {},
   "source": [
    "### Индексация в списках <a id=\"index\"></a>\n",
    "\n",
    "Для ображения к элементу используется `[]`, элемент доступен к изменению. Все особенности индексации **работают и со строками** тоже."
   ]
  },
  {
   "cell_type": "code",
   "execution_count": 83,
   "metadata": {},
   "outputs": [
    {
     "name": "stdout",
     "output_type": "stream",
     "text": [
      "[1, 2, 3]\n",
      "2\n",
      "[1, 'string', 3]\n"
     ]
    }
   ],
   "source": [
    "ls = [1,2,3]\n",
    "print(ls)\n",
    "print(ls[1])\n",
    "ls[1] = \"string\"\n",
    "print(ls)"
   ]
  },
  {
   "cell_type": "markdown",
   "metadata": {},
   "source": [
    "В python можно использовать отрицательные индексы, это способ индексации с конца списка. "
   ]
  },
  {
   "cell_type": "code",
   "execution_count": 84,
   "metadata": {},
   "outputs": [
    {
     "name": "stdout",
     "output_type": "stream",
     "text": [
      "three\n",
      "two\n"
     ]
    }
   ],
   "source": [
    "ls = ['one','two','three']\n",
    "print(ls[-1])\n",
    "print(ls[-2])"
   ]
  },
  {
   "cell_type": "markdown",
   "metadata": {},
   "source": [
    "### Срезы \n",
    "\n",
    "Срезы удобный инструмент выбирать часть списка или строки. Эта возможность очень часто используется в программах на Python. Дополнительно см.: \n",
    "- https://habrahabr.ru/post/89456/\n",
    "- https://www.digitalocean.com/community/tutorials/how-to-index-and-slice-strings-in-python-3\n",
    "\n",
    "Базовый синтаксис:\n",
    "\n",
    "```list[start:end:step]```\n",
    "\n",
    "Примеры:\n"
   ]
  },
  {
   "cell_type": "code",
   "execution_count": 97,
   "metadata": {},
   "outputs": [
    {
     "name": "stdout",
     "output_type": "stream",
     "text": [
      "['e', 'f', 'g']\n",
      "['a', 'b', 'c', 'd']\n",
      "['b', 'c']\n",
      "['b', 'd', 'f']\n",
      "['a', 'c', 'e', 'g']\n",
      "['g', 'f', 'e', 'd', 'c', 'b', 'a']\n",
      "['a', 'one', 'two', 'd', 'e', 'f', 'g']\n"
     ]
    }
   ],
   "source": [
    "ls = ['a','b','c','d','e','f','g']\n",
    "print(ls[4:])\n",
    "print(ls[:4])\n",
    "print(ls[1:3])\n",
    "print(ls[1:8:2])\n",
    "print(ls[::2])\n",
    "print(ls[::-1])\n",
    "\n",
    "# Они части остаются изменяемыми \n",
    "\n",
    "ls[1:3]=[\"one\",\"two\"]\n",
    "print(ls)"
   ]
  },
  {
   "cell_type": "markdown",
   "metadata": {},
   "source": [
    "## Управление пакетами\n",
    "\n",
    "- pip\n",
    "\n",
    "http://www.lfd.uci.edu/~gohlke/pythonlibs/"
   ]
  },
  {
   "cell_type": "code",
   "execution_count": 45,
   "metadata": {},
   "outputs": [
    {
     "ename": "SyntaxError",
     "evalue": "invalid syntax (<ipython-input-45-df3f28a351f4>, line 4)",
     "output_type": "error",
     "traceback": [
      "\u001b[0;36m  File \u001b[0;32m\"<ipython-input-45-df3f28a351f4>\"\u001b[0;36m, line \u001b[0;32m4\u001b[0m\n\u001b[0;31m    - списки. перегрузка операторов . дока. разные типы\u001b[0m\n\u001b[0m                                  ^\u001b[0m\n\u001b[0;31mSyntaxError\u001b[0m\u001b[0;31m:\u001b[0m invalid syntax\n"
     ]
    }
   ],
   "source": [
    "\n",
    "- отрицательные индексы\n",
    "\n",
    "- импорты\n",
    "- dictionaries\n",
    "- генераторы списков \n",
    "- кортежи\n",
    "- срезы\n",
    "- class\n",
    "- атрибуты . методы классов "
   ]
  },
  {
   "cell_type": "code",
   "execution_count": null,
   "metadata": {},
   "outputs": [],
   "source": []
  }
 ],
 "metadata": {
  "kernelspec": {
   "display_name": "Python 3",
   "language": "python",
   "name": "python3"
  },
  "language_info": {
   "codemirror_mode": {
    "name": "ipython",
    "version": 3
   },
   "file_extension": ".py",
   "mimetype": "text/x-python",
   "name": "python",
   "nbconvert_exporter": "python",
   "pygments_lexer": "ipython3",
   "version": "3.5.2"
  }
 },
 "nbformat": 4,
 "nbformat_minor": 2
}
