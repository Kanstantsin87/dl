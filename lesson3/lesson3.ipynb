{
 "cells": [
  {
   "cell_type": "markdown",
   "metadata": {},
   "source": [
    "<img src=\"numpy_logo.png\" alt=\"Drawing\" style=\"width: 200px;\"/>\n",
    "\n",
    "Краткий обзор инструментов, которые нужны для машинного обучения (5 мин)\n",
    "\n",
    "# Numpy. Работа с матрицами. Векторизация.\n",
    "\n",
    "Модуль numerical python (Numpy) для работы с матрицами. Векторизация вместо циклов. Индексация и срезы в массивах. Чтение и запись файлов с помощью Numpy.\n",
    "\n",
    "\n",
    "p.s. Полезные клавиши в juputer \n",
    "\n",
    "- tab автодополнение\n",
    "- shift+tab - документация"
   ]
  },
  {
   "cell_type": "markdown",
   "metadata": {},
   "source": [
    "## Содержание\n",
    "\n",
    "- Общая характеристика "
   ]
  },
  {
   "cell_type": "markdown",
   "metadata": {},
   "source": [
    "NumPy это фундаментальный пакет для научных вычислений с Python. Он содержит большое количество полезных особенностей:\n",
    "\n",
    "- Мощные N-мерные объект массивов\n",
    "- Сложные функции\n",
    "- Инструменты для интеграции с C/C++ и Fortran кодом \n",
    "- Полезная линейная алгебра, преобразования Фурье и случайние числа \n",
    "\n",
    "Numpy предоставляет функции, которые позволяют оперировать многомернами массивами. \n"
   ]
  },
  {
   "cell_type": "markdown",
   "metadata": {},
   "source": [
    "## Установка \n",
    "\n",
    "http://www.numpy.org/\n",
    "    \n",
    "лучше устанавливать полный набор библиотеку SciPy https://www.scipy.org/install.html \n",
    "    \n",
    "```\n",
    "pip3 install numpy scipy matplotlib ipython jupyter pandas sympy nose\n",
    "```\n",
    "\n",
    "\n"
   ]
  },
  {
   "cell_type": "markdown",
   "metadata": {},
   "source": [
    "## Массивы "
   ]
  },
  {
   "cell_type": "code",
   "execution_count": 41,
   "metadata": {},
   "outputs": [
    {
     "name": "stdout",
     "output_type": "stream",
     "text": [
      "[[1 2 3]\n",
      " [4 5 6]]\n",
      "(2, 3)\n"
     ]
    }
   ],
   "source": [
    "import numpy as np\n",
    "\n",
    "a = np.array([[1,2,3],[4,5,6]])\n",
    "print(a)\n",
    "print(a.shape)"
   ]
  },
  {
   "cell_type": "code",
   "execution_count": 47,
   "metadata": {},
   "outputs": [
    {
     "name": "stdout",
     "output_type": "stream",
     "text": [
      "[[1 2 3]\n",
      " [4 5 6]]\n",
      "[[1 2]\n",
      " [3 4]\n",
      " [5 6]]\n"
     ]
    }
   ],
   "source": [
    "#print(a*5-1)\n",
    "\n",
    "print(a)\n",
    "print(a.reshape((3,2)))"
   ]
  },
  {
   "cell_type": "code",
   "execution_count": 56,
   "metadata": {},
   "outputs": [
    {
     "name": "stdout",
     "output_type": "stream",
     "text": [
      "[ 0.02392846  0.22046202  0.00474114  0.86980256  0.03231166  0.12494772\n",
      "  0.15857799  0.69697277  0.28842934  0.87551416]\n",
      "[ 0.8233139   0.03836519  0.31412525  0.17541953  0.74563505  0.76223544\n",
      "  0.83037539  0.89568371  0.37175028  0.42090419]\n"
     ]
    }
   ],
   "source": [
    "a = np.random.rand(10)\n",
    "b = np.random.rand(10)\n",
    "print(a)\n",
    "print(b)"
   ]
  },
  {
   "cell_type": "code",
   "execution_count": 65,
   "metadata": {},
   "outputs": [
    {
     "name": "stdout",
     "output_type": "stream",
     "text": [
      "[[1 2 3]\n",
      " [4 5 6]]\n",
      "[[1 2]\n",
      " [3 4]\n",
      " [5 6]]\n",
      "[[22 28]\n",
      " [49 64]]\n"
     ]
    }
   ],
   "source": [
    "a = np.array([[1,2,3],[4,5,6]])\n",
    "b = np.array([[1,2],[3,4],[5,6]])\n",
    "print(a)\n",
    "print(b)\n",
    "\n",
    "print(a.dot(b))"
   ]
  },
  {
   "cell_type": "markdown",
   "metadata": {},
   "source": [
    "## Broadcasting "
   ]
  },
  {
   "cell_type": "code",
   "execution_count": null,
   "metadata": {},
   "outputs": [],
   "source": []
  },
  {
   "cell_type": "markdown",
   "metadata": {},
   "source": [
    "## Indexing"
   ]
  },
  {
   "cell_type": "code",
   "execution_count": 72,
   "metadata": {},
   "outputs": [
    {
     "name": "stdout",
     "output_type": "stream",
     "text": [
      "[10 20 30 40 50 60 70 80 90]\n",
      "[30 40]\n"
     ]
    }
   ],
   "source": [
    "import numpy as np\n",
    "\n",
    "a = np.array([10,20,30,40,50,60,70,80,90])\n",
    "print(a)\n",
    "print(a[[2,3]])"
   ]
  },
  {
   "cell_type": "code",
   "execution_count": 74,
   "metadata": {},
   "outputs": [
    {
     "name": "stdout",
     "output_type": "stream",
     "text": [
      "[10 None 30 40 None 60 None 80 90]\n",
      "[10 0 30 40 0 60 0 80 90]\n"
     ]
    }
   ],
   "source": [
    "import numpy as np\n",
    "\n",
    "a = np.array([10,None,30,40,None,60,None,80,90])\n",
    "print(a)\n",
    "a[a==None] = 0\n",
    "print(a)"
   ]
  },
  {
   "cell_type": "code",
   "execution_count": 76,
   "metadata": {},
   "outputs": [
    {
     "name": "stdout",
     "output_type": "stream",
     "text": [
      "[-1 -4 -5 -5 -6]\n"
     ]
    }
   ],
   "source": [
    "a = np.array([1,2,3,-1,-4,-5,3,-5,-6,2])\n",
    "#a[a<0]=0\n",
    "\n",
    "print(a[a<0])"
   ]
  },
  {
   "cell_type": "code",
   "execution_count": 80,
   "metadata": {},
   "outputs": [
    {
     "name": "stdout",
     "output_type": "stream",
     "text": [
      "[1 2 3 0 0 0 0 0 0 2]\n"
     ]
    }
   ],
   "source": [
    "a = np.array([1,2,3,-1,5000,-5,3000,-5,-6,2])\n",
    "a[np.logical_or(a<0, a>500)] = 0\n",
    "print(a)"
   ]
  },
  {
   "cell_type": "code",
   "execution_count": 27,
   "metadata": {},
   "outputs": [],
   "source": [
    "import numpy as np\n",
    "import time\n",
    "N = 10000000"
   ]
  },
  {
   "cell_type": "code",
   "execution_count": 29,
   "metadata": {},
   "outputs": [
    {
     "name": "stdout",
     "output_type": "stream",
     "text": [
      "(10000000,)\n",
      "(10000000,)\n"
     ]
    }
   ],
   "source": [
    "#a = np.arange(1,10)\n",
    "a = np.random.rand(N)\n",
    "b = np.random.rand(N)\n",
    "\n",
    "print(a.shape)\n",
    "print(b.shape)"
   ]
  },
  {
   "cell_type": "markdown",
   "metadata": {},
   "source": [
    "$$ c = a  b $$"
   ]
  },
  {
   "cell_type": "code",
   "execution_count": 36,
   "metadata": {},
   "outputs": [
    {
     "name": "stdout",
     "output_type": "stream",
     "text": [
      "2500708.1593 13.924598693847656  ms\n"
     ]
    }
   ],
   "source": [
    "start = time.time()\n",
    "c = a.dot(b)\n",
    "end = time.time()\n",
    "print( c, str((end-start)*1000),\" ms\")"
   ]
  },
  {
   "cell_type": "code",
   "execution_count": 35,
   "metadata": {},
   "outputs": [
    {
     "name": "stdout",
     "output_type": "stream",
     "text": [
      "2500708.1593 5053.746938705444  ms\n"
     ]
    }
   ],
   "source": [
    "start = time.time()\n",
    "c = 0\n",
    "for i in range(len(a)):\n",
    "    c+=a[i]*b[i]\n",
    "end = time.time()\n",
    "print(c, str((end-start)*1000),\" ms\")"
   ]
  },
  {
   "cell_type": "code",
   "execution_count": 22,
   "metadata": {},
   "outputs": [
    {
     "name": "stdout",
     "output_type": "stream",
     "text": [
      "[[2 3]\n",
      " [4 5]\n",
      " [6 7]]\n",
      "[[2 3]\n",
      " [4 5]\n",
      " [6 7]]\n",
      "[[0 1]\n",
      " [2 3]\n",
      " [4 5]]\n",
      "[[ 0 -1]\n",
      " [-2 -3]\n",
      " [-4 -5]]\n",
      "[[1 3 5]\n",
      " [2 4 6]]\n",
      "[[1 2]\n",
      " [3 4]\n",
      " [5 6]]\n",
      "[[ 2  4]\n",
      " [ 6  8]\n",
      " [10 12]]\n",
      "[[3 4]\n",
      " [5 6]\n",
      " [7 8]]\n",
      "[[ 3  3  3]\n",
      " [ 7  7  7]\n",
      " [11 11 11]]\n",
      "[[ 9  9]\n",
      " [12 12]]\n"
     ]
    }
   ],
   "source": [
    "# Операции\n",
    "import numpy as np \n",
    "\n",
    "A = np.array([[1,2],[3,4],[5,6]])\n",
    "B = np.array([[1,1],[1,1],[1,1]])\n",
    "\n",
    "\n",
    "print(A+B)\n",
    "print(B+A)\n",
    "print(A-B)\n",
    "print(B-A)\n",
    "print(A.T)\n",
    "print(A*B)\n",
    "print(A*2)\n",
    "print(A + 2)\n",
    "# print(A.dot(B))\n",
    "print(A.dot(B.T))\n",
    "print(A.T.dot(B))"
   ]
  },
  {
   "cell_type": "code",
   "execution_count": 27,
   "metadata": {},
   "outputs": [],
   "source": [
    "import numpy as np \n",
    "from numpy.linalg import inv\n",
    "from numpy.linalg import pinv\n",
    "\n",
    "\n",
    "A = np.array([[1,2],[3,4]])\n",
    "A_inv = inv(A)\n",
    "A_pinv = pinv(A)"
   ]
  },
  {
   "cell_type": "code",
   "execution_count": 28,
   "metadata": {},
   "outputs": [
    {
     "name": "stdout",
     "output_type": "stream",
     "text": [
      "[[1 2]\n",
      " [3 4]]\n",
      "[[-2.   1. ]\n",
      " [ 1.5 -0.5]]\n",
      "[[-2.   1. ]\n",
      " [ 1.5 -0.5]]\n"
     ]
    }
   ],
   "source": [
    "print(A)\n",
    "print(A_inv)\n",
    "print(A_pinv)"
   ]
  },
  {
   "cell_type": "code",
   "execution_count": null,
   "metadata": {},
   "outputs": [],
   "source": []
  },
  {
   "cell_type": "code",
   "execution_count": 26,
   "metadata": {},
   "outputs": [
    {
     "data": {
      "text/plain": [
       "array([[  1.00000000e+00,   0.00000000e+00],\n",
       "       [  8.88178420e-16,   1.00000000e+00]])"
      ]
     },
     "execution_count": 26,
     "metadata": {},
     "output_type": "execute_result"
    }
   ],
   "source": [
    "A.dot(A_inv) # ~ E"
   ]
  },
  {
   "cell_type": "code",
   "execution_count": 44,
   "metadata": {},
   "outputs": [
    {
     "name": "stdout",
     "output_type": "stream",
     "text": [
      "[[16  2  3 13]\n",
      " [ 5 11 10  8]\n",
      " [ 9  7  6 12]\n",
      " [ 4 14 15  1]]\n",
      "3\n",
      "[[  9.38249922e+13   2.81474977e+14  -2.81474977e+14  -9.38249922e+13]\n",
      " [  2.81474977e+14   8.44424930e+14  -8.44424930e+14  -2.81474977e+14]\n",
      " [ -2.81474977e+14  -8.44424930e+14   8.44424930e+14   2.81474977e+14]\n",
      " [ -9.38249922e+13  -2.81474977e+14   2.81474977e+14   9.38249922e+13]]\n",
      "[[ 0.10110294 -0.07389706 -0.06139706  0.06360294]\n",
      " [-0.03639706  0.03860294  0.02610294  0.00110294]\n",
      " [ 0.01360294 -0.01139706 -0.02389706  0.05110294]\n",
      " [-0.04889706  0.07610294  0.08860294 -0.08639706]]\n",
      "[[ 16.         2.         3.        13.      ]\n",
      " [  7.5       17.75      15.375     14.625   ]\n",
      " [ 11.5        5.5        5.5       11.5     ]\n",
      " [ 10.0625    16.96875   18.234375   6.265625]]\n",
      "[[ 16.   2.   3.  13.]\n",
      " [  5.  11.  10.   8.]\n",
      " [  9.   7.   6.  12.]\n",
      " [  4.  14.  15.   1.]]\n"
     ]
    }
   ],
   "source": [
    "# зачем pinv\n",
    "# https://www.quora.com/What-is-the-difference-between-pinv-and-inv\n",
    "\n",
    "B = np.array([\n",
    "    [16, 2, 3, 13],\n",
    "    [5, 11, 10, 8],\n",
    "    [9, 7, 6, 12],\n",
    "    [4, 14, 15, 1]]\n",
    ")\n",
    "\n",
    "print(B)\n",
    "print(np.linalg.matrix_rank(B))\n",
    "print(inv(B))\n",
    "print(pinv(B))\n",
    "\n",
    "print(B.dot(inv(B)).dot(B))\n",
    "print(B.dot(pinv(B)).dot(B))"
   ]
  },
  {
   "cell_type": "code",
   "execution_count": 81,
   "metadata": {},
   "outputs": [],
   "source": [
    "import pandas as pd "
   ]
  },
  {
   "cell_type": "code",
   "execution_count": 50,
   "metadata": {},
   "outputs": [
    {
     "name": "stdout",
     "output_type": "stream",
     "text": [
      "[[1 0 0 0]\n",
      " [0 2 0 0]\n",
      " [0 0 3 0]\n",
      " [0 0 0 4]]\n",
      "[[ 1.  0.  0.  0.  0.]\n",
      " [ 0.  1.  0.  0.  0.]\n",
      " [ 0.  0.  1.  0.  0.]\n",
      " [ 0.  0.  0.  1.  0.]\n",
      " [ 0.  0.  0.  0.  1.]]\n",
      "[[ 0.  0.  0.]\n",
      " [ 0.  0.  0.]]\n"
     ]
    }
   ],
   "source": [
    "import numpy as np\n",
    "\n",
    "d = np.diag([1,2,3,4])\n",
    "print(d)\n",
    "\n",
    "E = np.eye(5)\n",
    "print(E)\n",
    "\n",
    "Z=np.zeros((2,3))\n",
    "print(Z)"
   ]
  },
  {
   "cell_type": "markdown",
   "metadata": {},
   "source": [
    "$$\n",
    "\\omega = (X^TX+\\alpha I)^{-1} X^T y\n",
    "$$\n",
    "\n",
    "http://eli.thegreenplace.net/2014/derivation-of-the-normal-equation-for-linear-regression"
   ]
  },
  {
   "cell_type": "markdown",
   "metadata": {},
   "source": [
    "\n",
    "Считывание csv файлов в numpy массив, преобразование типов (10 мин)\n",
    "\n",
    "Срезы, индексация элементов (15 мин)\n",
    "\n",
    "Изменение размеров матриц, добавление строк, столбцов\n",
    "\n",
    "Векторизация. Примеры. Измерение времени работы. Пример с регрессией (без обучения, просто вычисление) (15 мин)\n",
    "\n",
    "\n",
    "CSV"
   ]
  },
  {
   "cell_type": "markdown",
   "metadata": {},
   "source": [
    "http://www.machinelearning.ru/wiki/index.php?title=%D0%9B%D0%B8%D0%BD%D0%B5%D0%B9%D0%BD%D0%B0%D1%8F_%D1%80%D0%B5%D0%B3%D1%80%D0%B5%D1%81%D1%81%D0%B8%D1%8F_(%D0%BF%D1%80%D0%B8%D0%BC%D0%B5%D1%80)"
   ]
  },
  {
   "cell_type": "markdown",
   "metadata": {},
   "source": [
    "https://www.kaggle.com/andonians/random-linear-regression"
   ]
  },
  {
   "cell_type": "code",
   "execution_count": 2,
   "metadata": {},
   "outputs": [],
   "source": [
    "%matplotlib inline\n",
    "import matplotlib.pyplot as plt"
   ]
  },
  {
   "cell_type": "code",
   "execution_count": 3,
   "metadata": {},
   "outputs": [
    {
     "name": "stdout",
     "output_type": "stream",
     "text": [
      "float64\n"
     ]
    }
   ],
   "source": [
    "from numpy import genfromtxt\n",
    "my_data = genfromtxt('test.csv', delimiter=',', skip_header=True)\n",
    "my_data.shape\n",
    "print(my_data.dtype)"
   ]
  },
  {
   "cell_type": "code",
   "execution_count": 117,
   "metadata": {},
   "outputs": [
    {
     "data": {
      "text/plain": [
       "(1, 2)"
      ]
     },
     "execution_count": 117,
     "metadata": {},
     "output_type": "execute_result"
    }
   ],
   "source": [
    "my_data[:1].shape"
   ]
  },
  {
   "cell_type": "markdown",
   "metadata": {},
   "source": [
    "$$\n",
    "\\omega = (X^TX)^{-1}X^Ty\n",
    "$$"
   ]
  },
  {
   "cell_type": "code",
   "execution_count": 87,
   "metadata": {},
   "outputs": [],
   "source": [
    "X = my_data[:,0]\n",
    "X=X.reshape((len(X),1))\n",
    "X=X.T\n",
    "y = my_data[:,1]\n"
   ]
  },
  {
   "cell_type": "code",
   "execution_count": 85,
   "metadata": {},
   "outputs": [
    {
     "name": "stdout",
     "output_type": "stream",
     "text": [
      "(1, 300)\n",
      "(300, 1)\n",
      "(300, 1)\n"
     ]
    }
   ],
   "source": [
    "from numpy.linalg import pinv\n",
    "\n",
    "X = my_data[:,0]\n",
    "X=X.reshape((len(X),1))\n",
    "X=X.T\n",
    "y = my_data[:,1]\n",
    "y=y.reshape((len(y),1))\n",
    "\n",
    "print(X.shape)\n",
    "print(y.shape)\n",
    "\n",
    "p = pinv(X.T.dot(X)).dot(X.T)\n",
    "print(p.shape)\n",
    "w=p.T.dot(y)\n",
    "\n",
    "#print(w,y.shape)\n",
    "#plt.figure(figsize=(16, 8))\n",
    "#plt.scatter(my_data[:,0], my_data[:,1])\n",
    "#plt.plot([0,100],[1,50], c=\"r\")\n",
    "#plt.show()\n",
    "\n",
    "#%matplotlib inline\n",
    "\n"
   ]
  },
  {
   "cell_type": "code",
   "execution_count": null,
   "metadata": {},
   "outputs": [],
   "source": []
  },
  {
   "cell_type": "code",
   "execution_count": 62,
   "metadata": {},
   "outputs": [
    {
     "data": {
      "image/png": "[encoded data removed]",
      "text/plain": [
       "<matplotlib.figure.Figure at 0x7f1cd1e76c88>"
      ]
     },
     "metadata": {},
     "output_type": "display_data"
    }
   ],
   "source": [
    "plt.figure(figsize=(16, 8))\n",
    "plt.scatter(my_data[:,0], my_data[:,1])\n",
    "plt.plot([0,100],[1,50], c=\"r\")\n",
    "plt.show()"
   ]
  },
  {
   "cell_type": "code",
   "execution_count": null,
   "metadata": {},
   "outputs": [],
   "source": []
  }
 ],
 "metadata": {
  "kernelspec": {
   "display_name": "Python 3",
   "language": "python",
   "name": "python3"
  },
  "language_info": {
   "codemirror_mode": {
    "name": "ipython",
    "version": 3
   },
   "file_extension": ".py",
   "mimetype": "text/x-python",
   "name": "python",
   "nbconvert_exporter": "python",
   "pygments_lexer": "ipython3",
   "version": "3.5.2"
  }
 },
 "nbformat": 4,
 "nbformat_minor": 2
}
