{
 "cells": [
  {
   "cell_type": "markdown",
   "metadata": {},
   "source": [
    "<img src=\"numpy_logo.png\" alt=\"Drawing\" style=\"width: 200px;\"/>\n",
    "\n",
    "# Numpy. Работа с матрицами. Векторизация.\n",
    "\n",
    "Модуль numerical python (Numpy http://www.numpy.org) для работы с матрицами. Векторизация вместо циклов. Индексация и срезы в массивах. Чтение и запись файлов с помощью Numpy. \n",
    "\n",
    "Полезные клавиши в juputer \n",
    "\n",
    "- tab автодополнение\n",
    "- shift+tab - документация"
   ]
  },
  {
   "cell_type": "markdown",
   "metadata": {},
   "source": [
    "## Содержание\n",
    "\n",
    "- [Общая характеристика Numpy](#about)\n",
    "- [Установка SciPy](#installing)\n",
    "- [Создание массивов](#arrays)\n",
    "- [Операции над матрицами, broadcasting](#operations) \n",
    "- Векторизация\n",
    "- Индексация, срезы, выбор по условию \n",
    "- Считывание csv файлов в numpy массив, преобразование типов\n",
    "- Изменение размеров матриц, добавление строк, столбцов\n",
    "- Пример с линейной регрессией (нормальное уравление)\n",
    "- Pandas"
   ]
  },
  {
   "cell_type": "markdown",
   "metadata": {},
   "source": [
    "## Общая характеристика Numpy <a id=\"about\"></a>\n",
    "\n",
    "NumPy это фундаментальный пакет для научных вычислений с Python. Он содержит большое количество полезных особенностей:\n",
    "\n",
    "- Мощные N-мерные объект массивов\n",
    "- Сложные функции\n",
    "- Инструменты для интеграции с C/C++ и Fortran кодом \n",
    "- Полезная линейная алгебра, преобразования Фурье и случайние числа \n",
    "\n",
    "Numpy предоставляет функции, которые позволяют оперировать многомернами массивами. \n"
   ]
  },
  {
   "cell_type": "markdown",
   "metadata": {},
   "source": [
    "## Установка <a id=\"installing\"></a>\n",
    "    \n",
    "лучше устанавливать полный набор SciPy:\n",
    "https://www.scipy.org/install.html \n",
    "\n",
    "```\n",
    "pip3 install numpy scipy matplotlib ipython jupyter pandas sympy nose\n",
    "\n",
    "```\n",
    "\n",
    "Для windows проще всего взять готовые пакеты:\n",
    "\n",
    "http://www.lfd.uci.edu/~gohlke/pythonlibs/\n"
   ]
  },
  {
   "cell_type": "markdown",
   "metadata": {},
   "source": [
    "## Создание массивов <a id=\"arrays\"></a>\n",
    "\n",
    "Для создания Numpy массива нужно вызывать метод ```np.array```. Для просмотра документации по методу в jupyter notebook можно нажать ```shift+tab```.\n",
    "\n",
    "У объектов array есть много методов, подробнее можно посмотреть нажетием клавиши ```tab```. \n",
    "\n",
    "Полезным свойством объекта ```array``` является ```shape```, позволяет узнать размерности массива. \n",
    "\n",
    "Свойство ```dtype``` позволяет узнать, какой тип данных используется для хранения элементов массив, его можно изменить. "
   ]
  },
  {
   "cell_type": "code",
   "execution_count": 93,
   "metadata": {},
   "outputs": [
    {
     "name": "stdout",
     "output_type": "stream",
     "text": [
      "(4,)\n",
      "[1 2 3 4]\n",
      "int64\n",
      "<class 'numpy.ndarray'>\n"
     ]
    }
   ],
   "source": [
    "import numpy as np\n",
    "\n",
    "a = np.array([1,2,3,4])\n",
    "print(a.shape)\n",
    "print(a)\n",
    "print(a.dtype)\n",
    "print(type(a))"
   ]
  },
  {
   "cell_type": "code",
   "execution_count": 94,
   "metadata": {},
   "outputs": [
    {
     "name": "stdout",
     "output_type": "stream",
     "text": [
      "[[1 2 3]\n",
      " [4 5 6]]\n",
      "(2, 3)\n",
      "int64\n",
      "<class 'numpy.ndarray'>\n"
     ]
    }
   ],
   "source": [
    "a = np.array([[1,2,3],[4,5,6]])\n",
    "print(a)\n",
    "print(a.shape)\n",
    "print(a.dtype)\n",
    "print(type(a))"
   ]
  },
  {
   "cell_type": "markdown",
   "metadata": {},
   "source": [
    "Создание разных видов матриц: единичные, диогональные, нулевые."
   ]
  },
  {
   "cell_type": "code",
   "execution_count": 95,
   "metadata": {},
   "outputs": [
    {
     "name": "stdout",
     "output_type": "stream",
     "text": [
      "[[ 1.  0.  0.  0.  0.]\n",
      " [ 0.  1.  0.  0.  0.]\n",
      " [ 0.  0.  1.  0.  0.]\n",
      " [ 0.  0.  0.  1.  0.]\n",
      " [ 0.  0.  0.  0.  1.]]\n"
     ]
    }
   ],
   "source": [
    "E = np.eye(5)\n",
    "print(E)"
   ]
  },
  {
   "cell_type": "code",
   "execution_count": 96,
   "metadata": {},
   "outputs": [
    {
     "name": "stdout",
     "output_type": "stream",
     "text": [
      "[[1 0 0 0]\n",
      " [0 2 0 0]\n",
      " [0 0 3 0]\n",
      " [0 0 0 4]]\n"
     ]
    }
   ],
   "source": [
    "d = np.diag([1,2,3,4])\n",
    "print(d)"
   ]
  },
  {
   "cell_type": "code",
   "execution_count": 97,
   "metadata": {},
   "outputs": [
    {
     "name": "stdout",
     "output_type": "stream",
     "text": [
      "[[ 0.  0.  0.]\n",
      " [ 0.  0.  0.]]\n"
     ]
    }
   ],
   "source": [
    "Z=np.zeros((2,3))\n",
    "print(Z)"
   ]
  },
  {
   "cell_type": "markdown",
   "metadata": {},
   "source": [
    "## Операции над матрицами. Broadcasting.  <a id=\"operations\"></a>\n",
    "\n",
    "Особенность numpy в том, что он работает с матрицами как с единой сущностью и проводит всевозможные оптимизации. В Numpy существует набор операций, котрые выполняются над всей матрицей, broadcasting."
   ]
  },
  {
   "cell_type": "code",
   "execution_count": 118,
   "metadata": {},
   "outputs": [
    {
     "name": "stdout",
     "output_type": "stream",
     "text": [
      "[[1 2]\n",
      " [3 4]\n",
      " [5 6]]\n",
      "[[2 2]\n",
      " [2 2]\n",
      " [2 1]]\n"
     ]
    }
   ],
   "source": [
    "# Операции\n",
    "import numpy as np \n",
    "\n",
    "A = np.array([[1,2],[3,4],[5,6]])\n",
    "B = np.array([[2,2],[2,2],[2,1]])\n",
    "print(A)\n",
    "print(B)"
   ]
  },
  {
   "cell_type": "code",
   "execution_count": 119,
   "metadata": {},
   "outputs": [
    {
     "name": "stdout",
     "output_type": "stream",
     "text": [
      "[[3 4]\n",
      " [5 6]\n",
      " [7 7]]\n",
      "[[3 4]\n",
      " [5 6]\n",
      " [7 7]]\n",
      "[[-1  0]\n",
      " [ 1  2]\n",
      " [ 3  5]]\n",
      "[[ 1  0]\n",
      " [-1 -2]\n",
      " [-3 -5]]\n"
     ]
    }
   ],
   "source": [
    "# Сложение, вычитание\n",
    "print(A+B)\n",
    "print(B+A)\n",
    "print(A-B)\n",
    "print(B-A)"
   ]
  },
  {
   "cell_type": "code",
   "execution_count": 120,
   "metadata": {},
   "outputs": [
    {
     "name": "stdout",
     "output_type": "stream",
     "text": [
      "[[1 2]\n",
      " [3 4]\n",
      " [5 6]]\n",
      "[[1 3 5]\n",
      " [2 4 6]]\n"
     ]
    }
   ],
   "source": [
    "# Транспанирование\n",
    "print(A)\n",
    "print(A.T)"
   ]
  },
  {
   "cell_type": "code",
   "execution_count": 122,
   "metadata": {},
   "outputs": [
    {
     "name": "stdout",
     "output_type": "stream",
     "text": [
      "[[1 2]\n",
      " [3 4]\n",
      " [5 6]]\n",
      "*\n",
      "[[2 2]\n",
      " [2 2]\n",
      " [2 1]]\n",
      "=\n",
      "[[ 2  4]\n",
      " [ 6  8]\n",
      " [10  6]]\n"
     ]
    }
   ],
   "source": [
    "# Поэлементное умножение\n",
    "print(A)\n",
    "print(\"*\")\n",
    "print(B)\n",
    "print(\"=\")\n",
    "print(A*B)"
   ]
  },
  {
   "cell_type": "code",
   "execution_count": 124,
   "metadata": {},
   "outputs": [
    {
     "name": "stdout",
     "output_type": "stream",
     "text": [
      "[[ 6  6  4]\n",
      " [14 14 10]\n",
      " [22 22 16]]\n",
      "[[18 13]\n",
      " [24 18]]\n"
     ]
    }
   ],
   "source": [
    "# Матричное умножение (операция не коммутативная)\n",
    "\n",
    "# print(A.dot(B))\n",
    "print(A.dot(B.T))\n",
    "print(A.T.dot(B))"
   ]
  },
  {
   "cell_type": "code",
   "execution_count": 127,
   "metadata": {},
   "outputs": [
    {
     "name": "stdout",
     "output_type": "stream",
     "text": [
      "[[2 2]\n",
      " [2 2]\n",
      " [2 1]]\n",
      "[[4 4]\n",
      " [4 4]\n",
      " [4 2]]\n",
      "[[12 12]\n",
      " [12 12]\n",
      " [12 11]]\n"
     ]
    }
   ],
   "source": [
    "# Умножение матрицы на число, добавление числа \n",
    "print(B)\n",
    "print(B*2)\n",
    "print(B + 10)"
   ]
  },
  {
   "cell_type": "code",
   "execution_count": 129,
   "metadata": {},
   "outputs": [
    {
     "name": "stdout",
     "output_type": "stream",
     "text": [
      "[[ 0.90929743  0.90929743]\n",
      " [ 0.90929743  0.90929743]\n",
      " [ 0.90929743  0.84147098]]\n",
      "[[ 7.3890561   7.3890561 ]\n",
      " [ 7.3890561   7.3890561 ]\n",
      " [ 7.3890561   2.71828183]]\n"
     ]
    }
   ],
   "source": [
    "# Broadcast операции\n",
    "print(np.sin(B))\n",
    "print(np.exp(B))"
   ]
  },
  {
   "cell_type": "markdown",
   "metadata": {},
   "source": [
    "### Инвертирование матриц \n",
    "\n",
    "По мат. определению обратная матрица это: $A A^{-1}=E$. Инвертировать можно только квадратную матрицу, с рангом матрицы, равным её размеру, т.е. матрица должна быть не вырожденная. На практике же есть возможность получить псевдо обратную матрицу, в случае, если матрица вырождена."
   ]
  },
  {
   "cell_type": "code",
   "execution_count": 130,
   "metadata": {},
   "outputs": [],
   "source": [
    "import numpy as np \n",
    "# Операция получения обратной матрицы\n",
    "from numpy.linalg import inv\n",
    "# Операция получения псевдо обратной матрицы\n",
    "from numpy.linalg import pinv"
   ]
  },
  {
   "cell_type": "code",
   "execution_count": 131,
   "metadata": {},
   "outputs": [
    {
     "name": "stdout",
     "output_type": "stream",
     "text": [
      "[[1 2]\n",
      " [3 4]]\n",
      "[[-2.   1. ]\n",
      " [ 1.5 -0.5]]\n",
      "[[-2.   1. ]\n",
      " [ 1.5 -0.5]]\n"
     ]
    }
   ],
   "source": [
    "# Для не вырожденных матриц результат обоих функций будет одинаковый. \n",
    "\n",
    "A = np.array([[1,2],[3,4]])\n",
    "A_inv = inv(A)\n",
    "A_pinv = pinv(A)\n",
    "\n",
    "print(A)\n",
    "print(A_inv)\n",
    "print(A_pinv)"
   ]
  },
  {
   "cell_type": "code",
   "execution_count": 132,
   "metadata": {},
   "outputs": [
    {
     "name": "stdout",
     "output_type": "stream",
     "text": [
      "[[  1.00000000e+00   0.00000000e+00]\n",
      " [  8.88178420e-16   1.00000000e+00]]\n",
      "[[  1.00000000e+00  -6.66133815e-16]\n",
      " [  8.88178420e-16   1.00000000e+00]]\n"
     ]
    }
   ],
   "source": [
    "# Проверим свойства обратной матрицы\n",
    "\n",
    "print(A.dot(A_inv))\n",
    "print(A.dot(A_pinv))"
   ]
  },
  {
   "cell_type": "markdown",
   "metadata": {},
   "source": [
    "C учётом погрешности вычислений, свойств выполняется $AA^{-1}=E$\n",
    "\n",
    "Также из свойства $A E = A$ следует что $A A^{-1} A = A$, проверим:"
   ]
  },
  {
   "cell_type": "code",
   "execution_count": 133,
   "metadata": {},
   "outputs": [
    {
     "name": "stdout",
     "output_type": "stream",
     "text": [
      "[[ 1.  2.]\n",
      " [ 3.  4.]]\n",
      "[[ 1.  2.]\n",
      " [ 3.  4.]]\n"
     ]
    }
   ],
   "source": [
    "print(A.dot(A_inv).dot(A))\n",
    "print(A.dot(A_pinv).dot(A))"
   ]
  },
  {
   "cell_type": "markdown",
   "metadata": {},
   "source": [
    "Примеры с вырожденной матрицей. Дополнительная информация https://www.quora.com/What-is-the-difference-between-pinv-and-inv "
   ]
  },
  {
   "cell_type": "code",
   "execution_count": 134,
   "metadata": {},
   "outputs": [
    {
     "name": "stdout",
     "output_type": "stream",
     "text": [
      "[[16  2  3 13]\n",
      " [ 5 11 10  8]\n",
      " [ 9  7  6 12]\n",
      " [ 4 14 15  1]]\n",
      "3 ранг матрицы не равен 4, матрица вырождена\n"
     ]
    }
   ],
   "source": [
    "B = np.array([\n",
    "    [16, 2, 3, 13],\n",
    "    [5, 11, 10, 8],\n",
    "    [9, 7, 6, 12],\n",
    "    [4, 14, 15, 1]]\n",
    ")\n",
    "\n",
    "print(B)\n",
    "print(np.linalg.matrix_rank(B),\"ранг матрицы не равен 4, матрица вырождена\")"
   ]
  },
  {
   "cell_type": "code",
   "execution_count": 135,
   "metadata": {},
   "outputs": [
    {
     "name": "stdout",
     "output_type": "stream",
     "text": [
      "[[  9.38249922e+13   2.81474977e+14  -2.81474977e+14  -9.38249922e+13]\n",
      " [  2.81474977e+14   8.44424930e+14  -8.44424930e+14  -2.81474977e+14]\n",
      " [ -2.81474977e+14  -8.44424930e+14   8.44424930e+14   2.81474977e+14]\n",
      " [ -9.38249922e+13  -2.81474977e+14   2.81474977e+14   9.38249922e+13]]\n",
      "[[ 0.10110294 -0.07389706 -0.06139706  0.06360294]\n",
      " [-0.03639706  0.03860294  0.02610294  0.00110294]\n",
      " [ 0.01360294 -0.01139706 -0.02389706  0.05110294]\n",
      " [-0.04889706  0.07610294  0.08860294 -0.08639706]]\n"
     ]
    }
   ],
   "source": [
    "print(inv(B))\n",
    "print(pinv(B))"
   ]
  },
  {
   "cell_type": "code",
   "execution_count": 136,
   "metadata": {},
   "outputs": [
    {
     "name": "stdout",
     "output_type": "stream",
     "text": [
      "[[ 1.        0.        0.        0.      ]\n",
      " [-0.75      0.        2.        0.375   ]\n",
      " [ 0.25     -0.5       1.        0.25    ]\n",
      " [-0.34375  -1.875     2.        1.734375]]\n",
      "[[ 0.95 -0.15  0.15  0.05]\n",
      " [-0.15  0.55  0.45  0.15]\n",
      " [ 0.15  0.45  0.55 -0.15]\n",
      " [ 0.05  0.15 -0.15  0.95]]\n"
     ]
    }
   ],
   "source": [
    "print(B.dot(inv(B)))\n",
    "print(B.dot(pinv(B)))"
   ]
  },
  {
   "cell_type": "code",
   "execution_count": 137,
   "metadata": {},
   "outputs": [
    {
     "name": "stdout",
     "output_type": "stream",
     "text": [
      "[[ 16.         2.         3.        13.      ]\n",
      " [  7.5       17.75      15.375     14.625   ]\n",
      " [ 11.5        5.5        5.5       11.5     ]\n",
      " [ 10.0625    16.96875   18.234375   6.265625]]\n",
      "[[ 16.   2.   3.  13.]\n",
      " [  5.  11.  10.   8.]\n",
      " [  9.   7.   6.  12.]\n",
      " [  4.  14.  15.   1.]]\n"
     ]
    }
   ],
   "source": [
    "print(B.dot(inv(B)).dot(B))\n",
    "print(B.dot(pinv(B)).dot(B))"
   ]
  },
  {
   "cell_type": "markdown",
   "metadata": {},
   "source": [
    "## Векторизация  <a id=\"vectorization\"></a>\n",
    "\n",
    "Векторизация применяется для быстрых вычислений и для компактности кода. Больше информации в лекции https://www.coursera.org/learn/machine-learning/lecture/WnQWH/vectorization"
   ]
  },
  {
   "cell_type": "code",
   "execution_count": 142,
   "metadata": {},
   "outputs": [
    {
     "name": "stdout",
     "output_type": "stream",
     "text": [
      "[ 0.79699632  0.10108015  0.66735003 ...,  0.08399754  0.85176608\n",
      "  0.16232193]\n",
      "[ 0.97653807  0.08324867  0.39145981 ...,  0.51632714  0.52343562\n",
      "  0.49060555]\n"
     ]
    }
   ],
   "source": [
    "import time\n",
    "\n",
    "a = np.random.rand(1000000)\n",
    "b = np.random.rand(1000000)\n",
    "\n",
    "print(a)\n",
    "print(b)"
   ]
  },
  {
   "cell_type": "code",
   "execution_count": 143,
   "metadata": {},
   "outputs": [
    {
     "name": "stdout",
     "output_type": "stream",
     "text": [
      "Результат:  249546.516189 Время:  2.3849010467529297  ms\n"
     ]
    }
   ],
   "source": [
    "# С векторизацией \n",
    "start = time.time()\n",
    "c = a.dot(b)\n",
    "end = time.time()\n",
    "print( \"Результат: \",c, \"Время: \", str((end-start)*1000),\" ms\")"
   ]
  },
  {
   "cell_type": "code",
   "execution_count": 144,
   "metadata": {},
   "outputs": [
    {
     "name": "stdout",
     "output_type": "stream",
     "text": [
      "Результат:  249546.516189 Время:  573.4288692474365  ms\n"
     ]
    }
   ],
   "source": [
    "# Без векторизации\n",
    "start = time.time()\n",
    "c = 0\n",
    "for i in range(len(a)):\n",
    "    c+=a[i]*b[i]\n",
    "end = time.time()\n",
    "print( \"Результат: \",c, \"Время: \", str((end-start)*1000),\" ms\")"
   ]
  },
  {
   "cell_type": "markdown",
   "metadata": {},
   "source": [
    "## [TODO] Индексация, срезы, выбор по условию  <a id=\"indexation\"></a>"
   ]
  },
  {
   "cell_type": "code",
   "execution_count": null,
   "metadata": {},
   "outputs": [],
   "source": []
  },
  {
   "cell_type": "markdown",
   "metadata": {},
   "source": [
    "## [TODO] Изменение размеров матриц, добавление строк, столбцов <a id=\"rezise\"></a>"
   ]
  },
  {
   "cell_type": "code",
   "execution_count": 145,
   "metadata": {},
   "outputs": [
    {
     "name": "stdout",
     "output_type": "stream",
     "text": [
      "[ 0.79699632  0.10108015  0.66735003 ...,  0.08399754  0.85176608\n",
      "  0.16232193]\n"
     ]
    },
    {
     "ename": "ValueError",
     "evalue": "cannot reshape array of size 1000000 into shape (3,2)",
     "output_type": "error",
     "traceback": [
      "\u001b[0;31m---------------------------------------------------------------------------\u001b[0m",
      "\u001b[0;31mValueError\u001b[0m                                Traceback (most recent call last)",
      "\u001b[0;32m<ipython-input-145-e9272eb43ff9>\u001b[0m in \u001b[0;36m<module>\u001b[0;34m()\u001b[0m\n\u001b[1;32m      1\u001b[0m \u001b[0;31m#print(a*5-1)\u001b[0m\u001b[0;34m\u001b[0m\u001b[0;34m\u001b[0m\u001b[0m\n\u001b[1;32m      2\u001b[0m \u001b[0mprint\u001b[0m\u001b[0;34m(\u001b[0m\u001b[0ma\u001b[0m\u001b[0;34m)\u001b[0m\u001b[0;34m\u001b[0m\u001b[0m\n\u001b[0;32m----> 3\u001b[0;31m \u001b[0mprint\u001b[0m\u001b[0;34m(\u001b[0m\u001b[0ma\u001b[0m\u001b[0;34m.\u001b[0m\u001b[0mreshape\u001b[0m\u001b[0;34m(\u001b[0m\u001b[0;34m(\u001b[0m\u001b[0;36m3\u001b[0m\u001b[0;34m,\u001b[0m\u001b[0;36m2\u001b[0m\u001b[0;34m)\u001b[0m\u001b[0;34m)\u001b[0m\u001b[0;34m)\u001b[0m\u001b[0;34m\u001b[0m\u001b[0m\n\u001b[0m",
      "\u001b[0;31mValueError\u001b[0m: cannot reshape array of size 1000000 into shape (3,2)"
     ]
    }
   ],
   "source": [
    "#print(a*5-1)\n",
    "print(a)\n",
    "print(a.reshape((3,2)))"
   ]
  },
  {
   "cell_type": "markdown",
   "metadata": {},
   "source": []
  },
  {
   "cell_type": "markdown",
   "metadata": {},
   "source": [
    "## Считывание csv файлов в numpy массив, преобразование типов  <a id=\"csv\"></a>"
   ]
  },
  {
   "cell_type": "markdown",
   "metadata": {},
   "source": []
  },
  {
   "cell_type": "markdown",
   "metadata": {},
   "source": [
    "## Пример с линейной регрессией (нормальное уравление) <a id=\"norm\"></a>"
   ]
  },
  {
   "cell_type": "code",
   "execution_count": 72,
   "metadata": {},
   "outputs": [
    {
     "name": "stdout",
     "output_type": "stream",
     "text": [
      "[10 20 30 40 50 60 70 80 90]\n",
      "[30 40]\n"
     ]
    }
   ],
   "source": [
    "import numpy as np\n",
    "\n",
    "a = np.array([10,20,30,40,50,60,70,80,90])\n",
    "print(a)\n",
    "print(a[[2,3]])"
   ]
  },
  {
   "cell_type": "code",
   "execution_count": 74,
   "metadata": {},
   "outputs": [
    {
     "name": "stdout",
     "output_type": "stream",
     "text": [
      "[10 None 30 40 None 60 None 80 90]\n",
      "[10 0 30 40 0 60 0 80 90]\n"
     ]
    }
   ],
   "source": [
    "import numpy as np\n",
    "\n",
    "a = np.array([10,None,30,40,None,60,None,80,90])\n",
    "print(a)\n",
    "a[a==None] = 0\n",
    "print(a)"
   ]
  },
  {
   "cell_type": "code",
   "execution_count": 76,
   "metadata": {},
   "outputs": [
    {
     "name": "stdout",
     "output_type": "stream",
     "text": [
      "[-1 -4 -5 -5 -6]\n"
     ]
    }
   ],
   "source": [
    "a = np.array([1,2,3,-1,-4,-5,3,-5,-6,2])\n",
    "#a[a<0]=0\n",
    "\n",
    "print(a[a<0])"
   ]
  },
  {
   "cell_type": "code",
   "execution_count": 80,
   "metadata": {},
   "outputs": [
    {
     "name": "stdout",
     "output_type": "stream",
     "text": [
      "[1 2 3 0 0 0 0 0 0 2]\n"
     ]
    }
   ],
   "source": [
    "a = np.array([1,2,3,-1,5000,-5,3000,-5,-6,2])\n",
    "a[np.logical_or(a<0, a>500)] = 0\n",
    "print(a)"
   ]
  },
  {
   "cell_type": "code",
   "execution_count": 27,
   "metadata": {},
   "outputs": [],
   "source": [
    "import numpy as np\n",
    "import time\n",
    "N = 10000000"
   ]
  },
  {
   "cell_type": "code",
   "execution_count": 29,
   "metadata": {},
   "outputs": [
    {
     "name": "stdout",
     "output_type": "stream",
     "text": [
      "(10000000,)\n",
      "(10000000,)\n"
     ]
    }
   ],
   "source": [
    "#a = np.arange(1,10)\n",
    "a = np.random.rand(N)\n",
    "b = np.random.rand(N)\n",
    "\n",
    "print(a.shape)\n",
    "print(b.shape)"
   ]
  },
  {
   "cell_type": "markdown",
   "metadata": {},
   "source": [
    "$$\n",
    "\\omega = (X^TX+\\alpha I)^{-1} X^T y\n",
    "$$\n",
    "\n",
    "http://eli.thegreenplace.net/2014/derivation-of-the-normal-equation-for-linear-regression"
   ]
  },
  {
   "cell_type": "markdown",
   "metadata": {},
   "source": []
  },
  {
   "cell_type": "markdown",
   "metadata": {},
   "source": [
    "http://www.machinelearning.ru/wiki/index.php?title=%D0%9B%D0%B8%D0%BD%D0%B5%D0%B9%D0%BD%D0%B0%D1%8F_%D1%80%D0%B5%D0%B3%D1%80%D0%B5%D1%81%D1%81%D0%B8%D1%8F_(%D0%BF%D1%80%D0%B8%D0%BC%D0%B5%D1%80)"
   ]
  },
  {
   "cell_type": "markdown",
   "metadata": {},
   "source": [
    "https://www.kaggle.com/andonians/random-linear-regression"
   ]
  },
  {
   "cell_type": "code",
   "execution_count": 2,
   "metadata": {},
   "outputs": [],
   "source": [
    "%matplotlib inline\n",
    "import matplotlib.pyplot as plt"
   ]
  },
  {
   "cell_type": "code",
   "execution_count": 3,
   "metadata": {},
   "outputs": [
    {
     "name": "stdout",
     "output_type": "stream",
     "text": [
      "float64\n"
     ]
    }
   ],
   "source": [
    "from numpy import genfromtxt\n",
    "my_data = genfromtxt('test.csv', delimiter=',', skip_header=True)\n",
    "my_data.shape\n",
    "print(my_data.dtype)"
   ]
  },
  {
   "cell_type": "code",
   "execution_count": 117,
   "metadata": {},
   "outputs": [
    {
     "data": {
      "text/plain": [
       "(1, 2)"
      ]
     },
     "execution_count": 117,
     "metadata": {},
     "output_type": "execute_result"
    }
   ],
   "source": [
    "my_data[:1].shape"
   ]
  },
  {
   "cell_type": "markdown",
   "metadata": {},
   "source": [
    "$$\n",
    "\\omega = (X^TX)^{-1}X^Ty\n",
    "$$"
   ]
  },
  {
   "cell_type": "code",
   "execution_count": 87,
   "metadata": {},
   "outputs": [],
   "source": [
    "X = my_data[:,0]\n",
    "X=X.reshape((len(X),1))\n",
    "X=X.T\n",
    "y = my_data[:,1]"
   ]
  },
  {
   "cell_type": "code",
   "execution_count": 85,
   "metadata": {},
   "outputs": [
    {
     "name": "stdout",
     "output_type": "stream",
     "text": [
      "(1, 300)\n",
      "(300, 1)\n",
      "(300, 1)\n"
     ]
    }
   ],
   "source": [
    "from numpy.linalg import pinv\n",
    "\n",
    "X = my_data[:,0]\n",
    "X=X.reshape((len(X),1))\n",
    "X=X.T\n",
    "y = my_data[:,1]\n",
    "y=y.reshape((len(y),1))\n",
    "\n",
    "print(X.shape)\n",
    "print(y.shape)\n",
    "\n",
    "p = pinv(X.T.dot(X)).dot(X.T)\n",
    "print(p.shape)\n",
    "w=p.T.dot(y)\n",
    "\n",
    "#print(w,y.shape)\n",
    "#plt.figure(figsize=(16, 8))\n",
    "#plt.scatter(my_data[:,0], my_data[:,1])\n",
    "#plt.plot([0,100],[1,50], c=\"r\")\n",
    "#plt.show()\n",
    "\n",
    "#%matplotlib inline\n",
    "\n"
   ]
  },
  {
   "cell_type": "code",
   "execution_count": 146,
   "metadata": {},
   "outputs": [
    {
     "data": {
      "image/png": "[encoded data removed]",
      "text/plain": [
       "<matplotlib.figure.Figure at 0x7f1cd1baf358>"
      ]
     },
     "metadata": {},
     "output_type": "display_data"
    }
   ],
   "source": [
    "plt.figure(figsize=(16, 8))\n",
    "plt.scatter(my_data[:,0], my_data[:,1])\n",
    "plt.show()"
   ]
  },
  {
   "cell_type": "code",
   "execution_count": 147,
   "metadata": {},
   "outputs": [
    {
     "data": {
      "image/png": "[encoded data removed]",
      "text/plain": [
       "<matplotlib.figure.Figure at 0x7f1cd1da0dd8>"
      ]
     },
     "metadata": {},
     "output_type": "display_data"
    }
   ],
   "source": [
    "plt.figure(figsize=(16, 8))\n",
    "plt.scatter(my_data[:,0], my_data[:,1])\n",
    "plt.plot([0,100],[0*w[0],100*w[0]], c=\"r\")\n",
    "plt.show()"
   ]
  },
  {
   "cell_type": "markdown",
   "metadata": {},
   "source": [
    "## Pandas <a id=\"pandas\"></a>"
   ]
  },
  {
   "cell_type": "code",
   "execution_count": null,
   "metadata": {},
   "outputs": [],
   "source": []
  }
 ],
 "metadata": {
  "kernelspec": {
   "display_name": "Python 3",
   "language": "python",
   "name": "python3"
  },
  "language_info": {
   "codemirror_mode": {
    "name": "ipython",
    "version": 3
   },
   "file_extension": ".py",
   "mimetype": "text/x-python",
   "name": "python",
   "nbconvert_exporter": "python",
   "pygments_lexer": "ipython3",
   "version": "3.5.2"
  }
 },
 "nbformat": 4,
 "nbformat_minor": 2
}
